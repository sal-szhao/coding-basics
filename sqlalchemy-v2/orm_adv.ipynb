{
 "cells": [
  {
   "cell_type": "code",
   "execution_count": 1,
   "metadata": {},
   "outputs": [],
   "source": [
    "from sqlalchemy import Column, Integer, String\n",
    "from sqlalchemy.orm import registry\n",
    "from sqlalchemy.orm import relationship"
   ]
  },
  {
   "cell_type": "code",
   "execution_count": 2,
   "metadata": {},
   "outputs": [],
   "source": [
    "mapper_registry = registry()"
   ]
  },
  {
   "cell_type": "code",
   "execution_count": 3,
   "metadata": {},
   "outputs": [],
   "source": [
    "@mapper_registry.mapped\n",
    "class User:\n",
    "    __tablename__ = \"user_account\"\n",
    "\n",
    "    id = Column(Integer, primary_key=True)\n",
    "    username = Column(String)\n",
    "    fullname = Column(String)\n",
    "\n",
    "    addresses = relationship(\"Address\", back_populates=\"user\")\n",
    "\n",
    "    def __repr__(self):\n",
    "        return \"<User(%r, %r)>\" % (self.username, self.fullname)"
   ]
  },
  {
   "cell_type": "code",
   "execution_count": 4,
   "metadata": {},
   "outputs": [],
   "source": [
    "from sqlalchemy import ForeignKey\n",
    "\n",
    "@mapper_registry.mapped\n",
    "class Address:\n",
    "    __tablename__ = \"email_address\"\n",
    "\n",
    "    id = Column(Integer, primary_key=True)\n",
    "    email_address = Column(String, nullable=False)\n",
    "    user_id = Column(ForeignKey(\"user_account.id\"), nullable=False)\n",
    "\n",
    "    user = relationship(\"User\", back_populates=\"addresses\")\n",
    "\n",
    "    def __repr__(self):\n",
    "        return \"<Address(%r)>\" % self.email_address"
   ]
  },
  {
   "cell_type": "code",
   "execution_count": 5,
   "metadata": {},
   "outputs": [
    {
     "name": "stdout",
     "output_type": "stream",
     "text": [
      "2023-06-25 10:53:33,590 INFO sqlalchemy.engine.Engine BEGIN (implicit)\n",
      "2023-06-25 10:53:33,590 INFO sqlalchemy.engine.Engine PRAGMA main.table_info(\"user_account\")\n",
      "2023-06-25 10:53:33,591 INFO sqlalchemy.engine.Engine [raw sql] ()\n",
      "2023-06-25 10:53:33,591 INFO sqlalchemy.engine.Engine PRAGMA temp.table_info(\"user_account\")\n",
      "2023-06-25 10:53:33,592 INFO sqlalchemy.engine.Engine [raw sql] ()\n",
      "2023-06-25 10:53:33,592 INFO sqlalchemy.engine.Engine PRAGMA main.table_info(\"email_address\")\n",
      "2023-06-25 10:53:33,593 INFO sqlalchemy.engine.Engine [raw sql] ()\n",
      "2023-06-25 10:53:33,593 INFO sqlalchemy.engine.Engine PRAGMA temp.table_info(\"email_address\")\n",
      "2023-06-25 10:53:33,593 INFO sqlalchemy.engine.Engine [raw sql] ()\n",
      "2023-06-25 10:53:33,595 INFO sqlalchemy.engine.Engine \n",
      "CREATE TABLE user_account (\n",
      "\tid INTEGER NOT NULL, \n",
      "\tusername VARCHAR, \n",
      "\tfullname VARCHAR, \n",
      "\tPRIMARY KEY (id)\n",
      ")\n",
      "\n",
      "\n",
      "2023-06-25 10:53:33,595 INFO sqlalchemy.engine.Engine [no key 0.00031s] ()\n",
      "2023-06-25 10:53:33,596 INFO sqlalchemy.engine.Engine \n",
      "CREATE TABLE email_address (\n",
      "\tid INTEGER NOT NULL, \n",
      "\temail_address VARCHAR NOT NULL, \n",
      "\tuser_id INTEGER NOT NULL, \n",
      "\tPRIMARY KEY (id), \n",
      "\tFOREIGN KEY(user_id) REFERENCES user_account (id)\n",
      ")\n",
      "\n",
      "\n",
      "2023-06-25 10:53:33,596 INFO sqlalchemy.engine.Engine [no key 0.00031s] ()\n",
      "2023-06-25 10:53:33,597 INFO sqlalchemy.engine.Engine COMMIT\n"
     ]
    }
   ],
   "source": [
    "from sqlalchemy import create_engine\n",
    "\n",
    "engine = create_engine(\"sqlite://\", echo=True)\n",
    "with engine.begin() as connection:\n",
    "    mapper_registry.metadata.create_all(connection)"
   ]
  },
  {
   "cell_type": "code",
   "execution_count": 6,
   "metadata": {},
   "outputs": [
    {
     "name": "stdout",
     "output_type": "stream",
     "text": [
      "2023-06-25 10:53:33,605 INFO sqlalchemy.engine.Engine BEGIN (implicit)\n",
      "2023-06-25 10:53:33,607 INFO sqlalchemy.engine.Engine INSERT INTO user_account (username, fullname) VALUES (?, ?)\n",
      "2023-06-25 10:53:33,607 INFO sqlalchemy.engine.Engine [generated in 0.00083s] ('spongebob', 'Spongebob Squarepants')\n",
      "2023-06-25 10:53:33,608 INFO sqlalchemy.engine.Engine INSERT INTO user_account (username, fullname) VALUES (?, ?)\n",
      "2023-06-25 10:53:33,608 INFO sqlalchemy.engine.Engine [cached since 0.001854s ago] ('sandy', 'Sandy Cheeks')\n",
      "2023-06-25 10:53:33,609 INFO sqlalchemy.engine.Engine INSERT INTO user_account (username, fullname) VALUES (?, ?)\n",
      "2023-06-25 10:53:33,609 INFO sqlalchemy.engine.Engine [cached since 0.002773s ago] ('patrick', 'Patrick Star')\n",
      "2023-06-25 10:53:33,610 INFO sqlalchemy.engine.Engine COMMIT\n"
     ]
    }
   ],
   "source": [
    "from sqlalchemy.orm import sessionmaker\n",
    "\n",
    "Session = sessionmaker(bind=engine, future=True)\n",
    "\n",
    "with Session.begin() as session:\n",
    "    session.add_all(\n",
    "        [\n",
    "            User(username=\"spongebob\", fullname=\"Spongebob Squarepants\"),\n",
    "            User(username=\"sandy\", fullname=\"Sandy Cheeks\"),\n",
    "            User(username=\"patrick\", fullname=\"Patrick Star\"),\n",
    "        ]\n",
    "    )"
   ]
  },
  {
   "cell_type": "code",
   "execution_count": 7,
   "metadata": {},
   "outputs": [
    {
     "data": {
      "text/plain": [
       "[]"
      ]
     },
     "execution_count": 7,
     "metadata": {},
     "output_type": "execute_result"
    }
   ],
   "source": [
    "squidward = User(username=\"squidward\", fullname=\"Squidward Tentacles\")\n",
    "squidward.addresses"
   ]
  },
  {
   "cell_type": "code",
   "execution_count": 8,
   "metadata": {},
   "outputs": [
    {
     "name": "stdout",
     "output_type": "stream",
     "text": [
      "<Address('s25@yahoo.com')>\n",
      "<User('squidward', 'Squidward Tentacles')>\n"
     ]
    }
   ],
   "source": [
    "# populate this collection with new Address objects.\n",
    "squidward.addresses = [\n",
    "    Address(email_address=\"squidward@gmail.com\"),\n",
    "    Address(email_address=\"s25@yahoo.com\"),\n",
    "    Address(email_address=\"squidward@hotmail.com\"),\n",
    "]\n",
    "\n",
    "print(squidward.addresses[1])\n",
    "\n",
    "# \"back populates\" sets up Address.user for each User.address.\n",
    "print(squidward.addresses[1].user)"
   ]
  },
  {
   "cell_type": "code",
   "execution_count": 9,
   "metadata": {},
   "outputs": [
    {
     "data": {
      "text/plain": [
       "IdentitySet([<User('squidward', 'Squidward Tentacles')>, <Address('squidward@gmail.com')>, <Address('s25@yahoo.com')>, <Address('squidward@hotmail.com')>])"
      ]
     },
     "execution_count": 9,
     "metadata": {},
     "output_type": "execute_result"
    }
   ],
   "source": [
    "session = Session()\n",
    "\n",
    "session.add(squidward)\n",
    "session.new"
   ]
  },
  {
   "cell_type": "code",
   "execution_count": 10,
   "metadata": {},
   "outputs": [
    {
     "name": "stdout",
     "output_type": "stream",
     "text": [
      "2023-06-25 10:53:33,646 INFO sqlalchemy.engine.Engine BEGIN (implicit)\n",
      "2023-06-25 10:53:33,647 INFO sqlalchemy.engine.Engine INSERT INTO user_account (username, fullname) VALUES (?, ?)\n",
      "2023-06-25 10:53:33,648 INFO sqlalchemy.engine.Engine [cached since 0.04109s ago] ('squidward', 'Squidward Tentacles')\n",
      "2023-06-25 10:53:33,649 INFO sqlalchemy.engine.Engine INSERT INTO email_address (email_address, user_id) VALUES (?, ?)\n",
      "2023-06-25 10:53:33,649 INFO sqlalchemy.engine.Engine [generated in 0.00046s] ('squidward@gmail.com', 4)\n",
      "2023-06-25 10:53:33,650 INFO sqlalchemy.engine.Engine INSERT INTO email_address (email_address, user_id) VALUES (?, ?)\n",
      "2023-06-25 10:53:33,650 INFO sqlalchemy.engine.Engine [cached since 0.001573s ago] ('s25@yahoo.com', 4)\n",
      "2023-06-25 10:53:33,651 INFO sqlalchemy.engine.Engine INSERT INTO email_address (email_address, user_id) VALUES (?, ?)\n",
      "2023-06-25 10:53:33,651 INFO sqlalchemy.engine.Engine [cached since 0.002454s ago] ('squidward@hotmail.com', 4)\n",
      "2023-06-25 10:53:33,652 INFO sqlalchemy.engine.Engine COMMIT\n"
     ]
    }
   ],
   "source": [
    "session.commit()"
   ]
  },
  {
   "cell_type": "code",
   "execution_count": 11,
   "metadata": {},
   "outputs": [
    {
     "name": "stdout",
     "output_type": "stream",
     "text": [
      "2023-06-25 10:53:33,657 INFO sqlalchemy.engine.Engine BEGIN (implicit)\n",
      "2023-06-25 10:53:33,659 INFO sqlalchemy.engine.Engine SELECT user_account.id AS user_account_id, user_account.username AS user_account_username, user_account.fullname AS user_account_fullname \n",
      "FROM user_account \n",
      "WHERE user_account.id = ?\n",
      "2023-06-25 10:53:33,660 INFO sqlalchemy.engine.Engine [generated in 0.00055s] (4,)\n",
      "2023-06-25 10:53:33,661 INFO sqlalchemy.engine.Engine SELECT email_address.id AS email_address_id, email_address.email_address AS email_address_email_address, email_address.user_id AS email_address_user_id \n",
      "FROM email_address \n",
      "WHERE ? = email_address.user_id\n",
      "2023-06-25 10:53:33,662 INFO sqlalchemy.engine.Engine [generated in 0.00039s] (4,)\n"
     ]
    },
    {
     "data": {
      "text/plain": [
       "[<Address('squidward@gmail.com')>,\n",
       " <Address('s25@yahoo.com')>,\n",
       " <Address('squidward@hotmail.com')>]"
      ]
     },
     "execution_count": 11,
     "metadata": {},
     "output_type": "execute_result"
    }
   ],
   "source": [
    "# After the data is expired, first access will be a lazy loading.\n",
    "squidward.addresses"
   ]
  },
  {
   "cell_type": "code",
   "execution_count": 12,
   "metadata": {},
   "outputs": [
    {
     "data": {
      "text/plain": [
       "[<Address('squidward@gmail.com')>,\n",
       " <Address('s25@yahoo.com')>,\n",
       " <Address('squidward@hotmail.com')>]"
      ]
     },
     "execution_count": 12,
     "metadata": {},
     "output_type": "execute_result"
    }
   ],
   "source": [
    "# The data stays in the memory until the transaction ends.\n",
    "squidward.addresses"
   ]
  },
  {
   "cell_type": "code",
   "execution_count": 13,
   "metadata": {},
   "outputs": [
    {
     "name": "stdout",
     "output_type": "stream",
     "text": [
      "2023-06-25 10:53:33,679 INFO sqlalchemy.engine.Engine SELECT user_account.id, user_account.username, user_account.fullname \n",
      "FROM user_account \n",
      "WHERE user_account.username = ?\n",
      "2023-06-25 10:53:33,679 INFO sqlalchemy.engine.Engine [generated in 0.00059s] ('spongebob',)\n",
      "2023-06-25 10:53:33,681 INFO sqlalchemy.engine.Engine SELECT email_address.id AS email_address_id, email_address.email_address AS email_address_email_address, email_address.user_id AS email_address_user_id \n",
      "FROM email_address \n",
      "WHERE ? = email_address.user_id\n",
      "2023-06-25 10:53:33,681 INFO sqlalchemy.engine.Engine [cached since 0.01987s ago] (1,)\n",
      "[]\n",
      "[<Address('s25@yahoo.com')>]\n",
      "[<Address('squidward@gmail.com')>, <Address('squidward@hotmail.com')>]\n"
     ]
    }
   ],
   "source": [
    "# Updating foreign keys.\n",
    "from sqlalchemy import select\n",
    "\n",
    "spongebob = session.execute(\n",
    "    select(User).filter_by(username=\"spongebob\")\n",
    ").scalar_one()\n",
    "\n",
    "print(spongebob.addresses)\n",
    "\n",
    "squidward.addresses[1].user = spongebob\n",
    "print(spongebob.addresses)\n",
    "print(squidward.addresses)"
   ]
  },
  {
   "cell_type": "code",
   "execution_count": 14,
   "metadata": {},
   "outputs": [
    {
     "name": "stdout",
     "output_type": "stream",
     "text": [
      "2023-06-25 10:54:02,269 INFO sqlalchemy.engine.Engine UPDATE email_address SET user_id=? WHERE email_address.id = ?\n",
      "2023-06-25 10:54:02,270 INFO sqlalchemy.engine.Engine [generated in 0.00093s] (1, 2)\n",
      "2023-06-25 10:54:02,271 INFO sqlalchemy.engine.Engine COMMIT\n"
     ]
    }
   ],
   "source": [
    "session.commit()"
   ]
  },
  {
   "cell_type": "code",
   "execution_count": 15,
   "metadata": {},
   "outputs": [
    {
     "name": "stdout",
     "output_type": "stream",
     "text": [
      "2023-06-25 11:04:51,378 INFO sqlalchemy.engine.Engine BEGIN (implicit)\n",
      "2023-06-25 11:04:51,379 INFO sqlalchemy.engine.Engine SELECT user_account.id, user_account.username, user_account.fullname, email_address.id AS id_1, email_address.email_address, email_address.user_id \n",
      "FROM user_account, email_address \n",
      "WHERE user_account.id = email_address.user_id\n",
      "2023-06-25 11:04:51,380 INFO sqlalchemy.engine.Engine [generated in 0.00048s] ()\n",
      "(<User('squidward', 'Squidward Tentacles')>, <Address('squidward@gmail.com')>)\n",
      "(<User('spongebob', 'Spongebob Squarepants')>, <Address('s25@yahoo.com')>)\n",
      "(<User('squidward', 'Squidward Tentacles')>, <Address('squidward@hotmail.com')>)\n"
     ]
    }
   ],
   "source": [
    "# Query multiple tables.\n",
    "stmt = select(User, Address).where(User.id == Address.user_id)\n",
    "\n",
    "for row in session.execute(stmt):\n",
    "    print(row)"
   ]
  },
  {
   "cell_type": "code",
   "execution_count": 16,
   "metadata": {},
   "outputs": [
    {
     "name": "stdout",
     "output_type": "stream",
     "text": [
      "2023-06-25 11:05:35,541 INFO sqlalchemy.engine.Engine SELECT user_account.id, user_account.username, user_account.fullname, email_address.id AS id_1, email_address.email_address, email_address.user_id \n",
      "FROM user_account JOIN email_address ON user_account.id = email_address.user_id\n",
      "2023-06-25 11:05:35,542 INFO sqlalchemy.engine.Engine [generated in 0.00082s] ()\n"
     ]
    },
    {
     "data": {
      "text/plain": [
       "[(<User('squidward', 'Squidward Tentacles')>, <Address('squidward@gmail.com')>),\n",
       " (<User('spongebob', 'Spongebob Squarepants')>, <Address('s25@yahoo.com')>),\n",
       " (<User('squidward', 'Squidward Tentacles')>, <Address('squidward@hotmail.com')>)]"
      ]
     },
     "execution_count": 16,
     "metadata": {},
     "output_type": "execute_result"
    }
   ],
   "source": [
    "stmt = select(User, Address).join(Address)\n",
    "session.execute(stmt).all()"
   ]
  },
  {
   "cell_type": "code",
   "execution_count": 17,
   "metadata": {},
   "outputs": [
    {
     "name": "stdout",
     "output_type": "stream",
     "text": [
      "2023-06-25 11:10:28,304 INFO sqlalchemy.engine.Engine SELECT user_account.id, user_account.username, user_account.fullname, email_address.id AS id_1, email_address.email_address, email_address.user_id \n",
      "FROM user_account JOIN email_address ON user_account.id = email_address.user_id\n",
      "2023-06-25 11:10:28,305 INFO sqlalchemy.engine.Engine [generated in 0.00082s] ()\n"
     ]
    },
    {
     "data": {
      "text/plain": [
       "[(<User('squidward', 'Squidward Tentacles')>, <Address('squidward@gmail.com')>),\n",
       " (<User('spongebob', 'Spongebob Squarepants')>, <Address('s25@yahoo.com')>),\n",
       " (<User('squidward', 'Squidward Tentacles')>, <Address('squidward@hotmail.com')>)]"
      ]
     },
     "execution_count": 17,
     "metadata": {},
     "output_type": "execute_result"
    }
   ],
   "source": [
    "# Being explicit in ON clause.\n",
    "stmt = select(User, Address).join(Address, User.id == Address.user_id)\n",
    "session.execute(stmt).all()"
   ]
  },
  {
   "cell_type": "code",
   "execution_count": 18,
   "metadata": {},
   "outputs": [
    {
     "name": "stdout",
     "output_type": "stream",
     "text": [
      "2023-06-25 11:13:58,959 INFO sqlalchemy.engine.Engine SELECT user_account.id, user_account.username, user_account.fullname, email_address.id AS id_1, email_address.email_address, email_address.user_id \n",
      "FROM user_account JOIN email_address ON user_account.id = email_address.user_id \n",
      "WHERE email_address.email_address = ?\n",
      "2023-06-25 11:13:58,960 INFO sqlalchemy.engine.Engine [generated in 0.00085s] ('squidward@gmail.com',)\n"
     ]
    },
    {
     "data": {
      "text/plain": [
       "(<User('squidward', 'Squidward Tentacles')>, <Address('squidward@gmail.com')>)"
      ]
     },
     "execution_count": 18,
     "metadata": {},
     "output_type": "execute_result"
    }
   ],
   "source": [
    "stmt = (\n",
    "    select(User, Address)\n",
    "    .join(User.addresses)\n",
    "    .where(Address.email_address == \"squidward@gmail.com\")\n",
    ")\n",
    "session.execute(stmt).first()"
   ]
  },
  {
   "cell_type": "code",
   "execution_count": 19,
   "metadata": {},
   "outputs": [
    {
     "name": "stdout",
     "output_type": "stream",
     "text": [
      "2023-06-25 11:20:09,339 INFO sqlalchemy.engine.Engine SELECT user_account.id, user_account.username, user_account.fullname \n",
      "FROM user_account JOIN email_address AS email_address_1 ON user_account.id = email_address_1.user_id JOIN email_address AS email_address_2 ON user_account.id = email_address_2.user_id \n",
      "WHERE email_address_1.email_address = ? AND email_address_2.email_address = ?\n",
      "2023-06-25 11:20:09,340 INFO sqlalchemy.engine.Engine [generated in 0.00091s] ('squidward@gmail.com', 'squidward@hotmail.com')\n"
     ]
    },
    {
     "data": {
      "text/plain": [
       "[(<User('squidward', 'Squidward Tentacles')>,)]"
      ]
     },
     "execution_count": 19,
     "metadata": {},
     "output_type": "execute_result"
    }
   ],
   "source": [
    "# Alias simlar to Core usage.\n",
    "from sqlalchemy.orm import aliased\n",
    "\n",
    "a1, a2 = aliased(Address), aliased(Address)\n",
    "\n",
    "stmt = (\n",
    "    select(User)\n",
    "    .join_from(User, a1)\n",
    "    .join_from(User, a2)\n",
    "    .where(a1.email_address == \"squidward@gmail.com\")\n",
    "    .where(a2.email_address == \"squidward@hotmail.com\")\n",
    ")\n",
    "\n",
    "session.execute(stmt).all()"
   ]
  },
  {
   "cell_type": "code",
   "execution_count": 21,
   "metadata": {},
   "outputs": [
    {
     "name": "stdout",
     "output_type": "stream",
     "text": [
      "2023-06-25 11:27:12,720 INFO sqlalchemy.engine.Engine SELECT user_account.username, coalesce(anon_1.count, ?) AS coalesce_1 \n",
      "FROM user_account LEFT OUTER JOIN (SELECT count(email_address.id) AS count, email_address.user_id AS user_id \n",
      "FROM email_address GROUP BY email_address.user_id) AS anon_1 ON user_account.id = anon_1.user_id\n",
      "2023-06-25 11:27:12,721 INFO sqlalchemy.engine.Engine [cached since 14.6s ago] (0,)\n"
     ]
    },
    {
     "data": {
      "text/plain": [
       "[('spongebob', 1), ('sandy', 0), ('patrick', 0), ('squidward', 2)]"
      ]
     },
     "execution_count": 21,
     "metadata": {},
     "output_type": "execute_result"
    }
   ],
   "source": [
    "# Subquery similar to Core usage.\n",
    "from sqlalchemy import func\n",
    "\n",
    "subq = (\n",
    "    select(func.count(Address.id).label(\"count\"), Address.user_id)\n",
    "    .group_by(Address.user_id)\n",
    "    .subquery()\n",
    ")\n",
    "\n",
    "stmt = (\n",
    "    select(User.username, func.coalesce(subq.c.count, 0))\n",
    "    .outerjoin(subq, User.id == subq.c.user_id)\n",
    ")\n",
    "\n",
    "session.execute(stmt).all()"
   ]
  },
  {
   "cell_type": "code",
   "execution_count": 22,
   "metadata": {},
   "outputs": [
    {
     "name": "stdout",
     "output_type": "stream",
     "text": [
      "2023-06-25 11:39:12,530 INFO sqlalchemy.engine.Engine BEGIN (implicit)\n",
      "2023-06-25 11:39:12,531 INFO sqlalchemy.engine.Engine SELECT user_account.id, user_account.username, user_account.fullname \n",
      "FROM user_account\n",
      "2023-06-25 11:39:12,532 INFO sqlalchemy.engine.Engine [generated in 0.00045s] ()\n",
      "2023-06-25 11:39:12,533 INFO sqlalchemy.engine.Engine SELECT email_address.id AS email_address_id, email_address.email_address AS email_address_email_address, email_address.user_id AS email_address_user_id \n",
      "FROM email_address \n",
      "WHERE ? = email_address.user_id\n",
      "2023-06-25 11:39:12,533 INFO sqlalchemy.engine.Engine [cached since 2739s ago] (1,)\n",
      "<User('spongebob', 'Spongebob Squarepants')> [<Address('s25@yahoo.com')>]\n",
      "2023-06-25 11:39:12,534 INFO sqlalchemy.engine.Engine SELECT email_address.id AS email_address_id, email_address.email_address AS email_address_email_address, email_address.user_id AS email_address_user_id \n",
      "FROM email_address \n",
      "WHERE ? = email_address.user_id\n",
      "2023-06-25 11:39:12,534 INFO sqlalchemy.engine.Engine [cached since 2739s ago] (2,)\n",
      "<User('sandy', 'Sandy Cheeks')> []\n",
      "2023-06-25 11:39:12,535 INFO sqlalchemy.engine.Engine SELECT email_address.id AS email_address_id, email_address.email_address AS email_address_email_address, email_address.user_id AS email_address_user_id \n",
      "FROM email_address \n",
      "WHERE ? = email_address.user_id\n",
      "2023-06-25 11:39:12,535 INFO sqlalchemy.engine.Engine [cached since 2739s ago] (3,)\n",
      "<User('patrick', 'Patrick Star')> []\n",
      "2023-06-25 11:39:12,536 INFO sqlalchemy.engine.Engine SELECT email_address.id AS email_address_id, email_address.email_address AS email_address_email_address, email_address.user_id AS email_address_user_id \n",
      "FROM email_address \n",
      "WHERE ? = email_address.user_id\n",
      "2023-06-25 11:39:12,536 INFO sqlalchemy.engine.Engine [cached since 2739s ago] (4,)\n",
      "<User('squidward', 'Squidward Tentacles')> [<Address('squidward@gmail.com')>, <Address('squidward@hotmail.com')>]\n",
      "2023-06-25 11:39:12,537 INFO sqlalchemy.engine.Engine ROLLBACK\n"
     ]
    }
   ],
   "source": [
    "# Eager loading.\n",
    "with Session() as session:\n",
    "    for user in session.execute(\n",
    "        select(User)\n",
    "    ).scalars():\n",
    "        print(user, user.addresses)"
   ]
  },
  {
   "cell_type": "code",
   "execution_count": 23,
   "metadata": {},
   "outputs": [
    {
     "name": "stdout",
     "output_type": "stream",
     "text": [
      "2023-06-25 11:48:59,111 INFO sqlalchemy.engine.Engine BEGIN (implicit)\n",
      "2023-06-25 11:48:59,113 INFO sqlalchemy.engine.Engine SELECT user_account.id, user_account.username, user_account.fullname \n",
      "FROM user_account\n",
      "2023-06-25 11:48:59,113 INFO sqlalchemy.engine.Engine [generated in 0.00047s] ()\n",
      "2023-06-25 11:48:59,115 INFO sqlalchemy.engine.Engine SELECT email_address.user_id AS email_address_user_id, email_address.id AS email_address_id, email_address.email_address AS email_address_email_address \n",
      "FROM email_address \n",
      "WHERE email_address.user_id IN (?, ?, ?, ?)\n",
      "2023-06-25 11:48:59,116 INFO sqlalchemy.engine.Engine [generated in 0.00040s] (1, 2, 3, 4)\n",
      "<User('spongebob', 'Spongebob Squarepants')> [<Address('s25@yahoo.com')>]\n",
      "<User('sandy', 'Sandy Cheeks')> []\n",
      "<User('patrick', 'Patrick Star')> []\n",
      "<User('squidward', 'Squidward Tentacles')> [<Address('squidward@gmail.com')>, <Address('squidward@hotmail.com')>]\n",
      "2023-06-25 11:48:59,117 INFO sqlalchemy.engine.Engine ROLLBACK\n"
     ]
    }
   ],
   "source": [
    "from sqlalchemy.orm import selectinload\n",
    "\n",
    "with Session() as session:\n",
    "    for user in session.execute(\n",
    "        select(User)\n",
    "        .options(\n",
    "            selectinload(User.addresses)\n",
    "        )\n",
    "    ).scalars():\n",
    "        print(user, user.addresses)"
   ]
  },
  {
   "cell_type": "code",
   "execution_count": 25,
   "metadata": {},
   "outputs": [
    {
     "name": "stdout",
     "output_type": "stream",
     "text": [
      "2023-06-25 11:58:41,276 INFO sqlalchemy.engine.Engine BEGIN (implicit)\n",
      "2023-06-25 11:58:41,278 INFO sqlalchemy.engine.Engine SELECT email_address.id, email_address.email_address, email_address.user_id, user_account_1.id AS id_1, user_account_1.username, user_account_1.fullname \n",
      "FROM email_address JOIN user_account AS user_account_1 ON user_account_1.id = email_address.user_id\n",
      "2023-06-25 11:58:41,278 INFO sqlalchemy.engine.Engine [generated in 0.00043s] ()\n",
      "squidward@gmail.com squidward\n",
      "s25@yahoo.com spongebob\n",
      "squidward@hotmail.com squidward\n",
      "2023-06-25 11:58:41,279 INFO sqlalchemy.engine.Engine ROLLBACK\n"
     ]
    }
   ],
   "source": [
    "from sqlalchemy.orm import joinedload\n",
    "\n",
    "with Session() as session:\n",
    "    for address_obj in session.execute(\n",
    "        select(Address)\n",
    "        .options(\n",
    "            joinedload(Address.user, innerjoin=True)\n",
    "        )\n",
    "    ).scalars():\n",
    "        print(address_obj.email_address, address_obj.user.username)"
   ]
  },
  {
   "cell_type": "code",
   "execution_count": 26,
   "metadata": {},
   "outputs": [
    {
     "name": "stdout",
     "output_type": "stream",
     "text": [
      "2023-06-25 12:10:51,169 INFO sqlalchemy.engine.Engine BEGIN (implicit)\n",
      "2023-06-25 12:10:51,172 INFO sqlalchemy.engine.Engine SELECT email_address.id, email_address.email_address, email_address.user_id, user_account_1.id AS id_1, user_account_1.username, user_account_1.fullname \n",
      "FROM email_address JOIN user_account ON user_account.id = email_address.user_id LEFT OUTER JOIN user_account AS user_account_1 ON user_account_1.id = email_address.user_id \n",
      "WHERE user_account.username = ?\n",
      "2023-06-25 12:10:51,173 INFO sqlalchemy.engine.Engine [generated in 0.00070s] ('squidward',)\n",
      "<Address('squidward@gmail.com')> <User('squidward', 'Squidward Tentacles')>\n",
      "<Address('squidward@hotmail.com')> <User('squidward', 'Squidward Tentacles')>\n",
      "2023-06-25 12:10:51,174 INFO sqlalchemy.engine.Engine ROLLBACK\n"
     ]
    }
   ],
   "source": [
    "# Using joined load together with join.\n",
    "with Session() as session:\n",
    "    for address in session.execute(\n",
    "        select(Address)\n",
    "        .join(Address.user)\n",
    "        .where(User.username == \"squidward\")\n",
    "        .options(joinedload(Address.user))\n",
    "    ).scalars():\n",
    "        print(address, address.user)"
   ]
  },
  {
   "cell_type": "code",
   "execution_count": 27,
   "metadata": {},
   "outputs": [
    {
     "name": "stdout",
     "output_type": "stream",
     "text": [
      "2023-06-25 12:24:14,799 INFO sqlalchemy.engine.Engine BEGIN (implicit)\n",
      "2023-06-25 12:24:14,801 INFO sqlalchemy.engine.Engine SELECT user_account.id, user_account.username, user_account.fullname, email_address.id AS id_1, email_address.email_address, email_address.user_id \n",
      "FROM email_address JOIN user_account ON user_account.id = email_address.user_id \n",
      "WHERE user_account.username = ?\n",
      "2023-06-25 12:24:14,802 INFO sqlalchemy.engine.Engine [generated in 0.00058s] ('squidward',)\n",
      "<Address('squidward@gmail.com')> <User('squidward', 'Squidward Tentacles')>\n",
      "<Address('squidward@hotmail.com')> <User('squidward', 'Squidward Tentacles')>\n",
      "2023-06-25 12:24:14,803 INFO sqlalchemy.engine.Engine ROLLBACK\n"
     ]
    }
   ],
   "source": [
    "# Avoid multiple joins.\n",
    "from sqlalchemy.orm import contains_eager\n",
    "\n",
    "with Session() as session:\n",
    "    for address in session.execute(\n",
    "        select(Address)\n",
    "        .join(Address.user)\n",
    "        .where(User.username == \"squidward\")\n",
    "        .options(contains_eager(Address.user))\n",
    "    ).scalars():\n",
    "        print(address, address.user)"
   ]
  },
  {
   "cell_type": "code",
   "execution_count": null,
   "metadata": {},
   "outputs": [],
   "source": []
  }
 ],
 "metadata": {
  "kernelspec": {
   "display_name": "fastapi",
   "language": "python",
   "name": "python3"
  },
  "language_info": {
   "codemirror_mode": {
    "name": "ipython",
    "version": 3
   },
   "file_extension": ".py",
   "mimetype": "text/x-python",
   "name": "python",
   "nbconvert_exporter": "python",
   "pygments_lexer": "ipython3",
   "version": "3.8.0"
  },
  "orig_nbformat": 4
 },
 "nbformat": 4,
 "nbformat_minor": 2
}
