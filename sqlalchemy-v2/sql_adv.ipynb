{
 "cells": [
  {
   "cell_type": "code",
   "execution_count": 1,
   "metadata": {},
   "outputs": [
    {
     "name": "stdout",
     "output_type": "stream",
     "text": [
      "2023-06-24 14:01:29,729 INFO sqlalchemy.engine.Engine BEGIN (implicit)\n",
      "2023-06-24 14:01:29,730 INFO sqlalchemy.engine.Engine PRAGMA main.table_info(\"user_account\")\n",
      "2023-06-24 14:01:29,730 INFO sqlalchemy.engine.Engine [raw sql] ()\n",
      "2023-06-24 14:01:29,731 INFO sqlalchemy.engine.Engine PRAGMA temp.table_info(\"user_account\")\n",
      "2023-06-24 14:01:29,731 INFO sqlalchemy.engine.Engine [raw sql] ()\n",
      "2023-06-24 14:01:29,732 INFO sqlalchemy.engine.Engine PRAGMA main.table_info(\"email_address\")\n",
      "2023-06-24 14:01:29,732 INFO sqlalchemy.engine.Engine [raw sql] ()\n",
      "2023-06-24 14:01:29,733 INFO sqlalchemy.engine.Engine PRAGMA temp.table_info(\"email_address\")\n",
      "2023-06-24 14:01:29,733 INFO sqlalchemy.engine.Engine [raw sql] ()\n",
      "2023-06-24 14:01:29,734 INFO sqlalchemy.engine.Engine \n",
      "CREATE TABLE user_account (\n",
      "\tid INTEGER NOT NULL, \n",
      "\tusername VARCHAR(50), \n",
      "\tfullname VARCHAR(50), \n",
      "\tPRIMARY KEY (id)\n",
      ")\n",
      "\n",
      "\n",
      "2023-06-24 14:01:29,734 INFO sqlalchemy.engine.Engine [no key 0.00035s] ()\n",
      "2023-06-24 14:01:29,735 INFO sqlalchemy.engine.Engine \n",
      "CREATE TABLE email_address (\n",
      "\tid INTEGER NOT NULL, \n",
      "\tuser_id INTEGER NOT NULL, \n",
      "\temail_address VARCHAR(100) NOT NULL, \n",
      "\tPRIMARY KEY (id), \n",
      "\tFOREIGN KEY(user_id) REFERENCES user_account (id)\n",
      ")\n",
      "\n",
      "\n",
      "2023-06-24 14:01:29,735 INFO sqlalchemy.engine.Engine [no key 0.00034s] ()\n",
      "2023-06-24 14:01:29,736 INFO sqlalchemy.engine.Engine COMMIT\n",
      "2023-06-24 14:01:29,737 INFO sqlalchemy.engine.Engine BEGIN (implicit)\n",
      "2023-06-24 14:01:29,737 INFO sqlalchemy.engine.Engine INSERT INTO user_account (username, fullname) VALUES (?, ?)\n",
      "2023-06-24 14:01:29,738 INFO sqlalchemy.engine.Engine [generated in 0.00053s] [('spongebob', 'Spongebob Squarepants'), ('sandy', 'Sandy Cheeks'), ('patrick', 'Patrick Star')]\n",
      "2023-06-24 14:01:29,739 INFO sqlalchemy.engine.Engine INSERT INTO email_address (user_id, email_address) VALUES (?, ?)\n",
      "2023-06-24 14:01:29,739 INFO sqlalchemy.engine.Engine [generated in 0.00032s] [(1, 'spongebob@spongebob.com'), (1, 'spongebob@gmail.com'), (2, 'sandy@yahoo.com'), (3, 'patrick@gmail.com')]\n",
      "2023-06-24 14:01:29,739 INFO sqlalchemy.engine.Engine COMMIT\n"
     ]
    }
   ],
   "source": [
    "from sqlalchemy import MetaData, Table, Column\n",
    "from sqlalchemy import String, Integer, ForeignKey\n",
    "\n",
    "metadata = MetaData()\n",
    "\n",
    "user_table = Table(\n",
    "    \"user_account\",\n",
    "    metadata,\n",
    "    Column(\"id\", Integer, primary_key=True),\n",
    "    Column(\"username\", String(50)),\n",
    "    Column(\"fullname\", String(50)),\n",
    ")\n",
    "\n",
    "address_table = Table(\n",
    "    \"email_address\",\n",
    "    metadata,\n",
    "    Column(\"id\", Integer, primary_key=True),\n",
    "    Column(\"user_id\", ForeignKey(\"user_account.id\"), nullable=False),\n",
    "    Column(\"email_address\", String(100), nullable=False),\n",
    ")\n",
    "\n",
    "from sqlalchemy import create_engine\n",
    "\n",
    "engine = create_engine(\"sqlite://\", echo=True, future=True)\n",
    "with engine.begin() as conn:\n",
    "    metadata.create_all(conn)\n",
    "\n",
    "with engine.begin() as connection:\n",
    "    connection.execute(\n",
    "        user_table.insert(),\n",
    "        [\n",
    "            {\"user_id\": 1, \"username\": \"spongebob\", \"fullname\": \"Spongebob Squarepants\"},\n",
    "            {\"user_id\": 2, \"username\": \"sandy\", \"fullname\": \"Sandy Cheeks\"},\n",
    "            {\"user_id\": 3, \"username\": \"patrick\", \"fullname\": \"Patrick Star\"},\n",
    "        ],\n",
    "    )\n",
    "\n",
    "    connection.execute(\n",
    "        address_table.insert(),\n",
    "        [\n",
    "            {\"user_id\": 1, \"email_address\": \"spongebob@spongebob.com\"},\n",
    "            {\"user_id\": 1, \"email_address\": \"spongebob@gmail.com\"},\n",
    "            {\"user_id\": 2, \"email_address\": \"sandy@yahoo.com\"},\n",
    "            {\"user_id\": 3, \"email_address\": \"patrick@gmail.com\"},\n",
    "        ],\n",
    "    )"
   ]
  },
  {
   "cell_type": "code",
   "execution_count": 4,
   "metadata": {},
   "outputs": [
    {
     "name": "stdout",
     "output_type": "stream",
     "text": [
      "SELECT user_account.username, email_address.email_address \n",
      "FROM user_account, email_address\n"
     ]
    }
   ],
   "source": [
    "from sqlalchemy import select\n",
    "\n",
    "connection = engine.connect()\n",
    "\n",
    "stmt = select(user_table.c.username, address_table.c.email_address)\n",
    "print(stmt)"
   ]
  },
  {
   "cell_type": "code",
   "execution_count": 5,
   "metadata": {},
   "outputs": [
    {
     "name": "stdout",
     "output_type": "stream",
     "text": [
      "2023-06-24 14:01:43,358 INFO sqlalchemy.engine.Engine BEGIN (implicit)\n",
      "2023-06-24 14:01:43,359 INFO sqlalchemy.engine.Engine SELECT user_account.username, email_address.email_address \n",
      "FROM user_account, email_address\n",
      "2023-06-24 14:01:43,359 INFO sqlalchemy.engine.Engine [cached since 8.929s ago] ()\n"
     ]
    }
   ],
   "source": [
    "# Will give a warning because cartesian product can crush memory.\n",
    "result = connection.execute(stmt)"
   ]
  },
  {
   "cell_type": "code",
   "execution_count": 6,
   "metadata": {},
   "outputs": [
    {
     "data": {
      "text/plain": [
       "[('spongebob', 'spongebob@spongebob.com'),\n",
       " ('spongebob', 'spongebob@gmail.com'),\n",
       " ('spongebob', 'sandy@yahoo.com'),\n",
       " ('spongebob', 'patrick@gmail.com'),\n",
       " ('sandy', 'spongebob@spongebob.com'),\n",
       " ('sandy', 'spongebob@gmail.com'),\n",
       " ('sandy', 'sandy@yahoo.com'),\n",
       " ('sandy', 'patrick@gmail.com'),\n",
       " ('patrick', 'spongebob@spongebob.com'),\n",
       " ('patrick', 'spongebob@gmail.com'),\n",
       " ('patrick', 'sandy@yahoo.com'),\n",
       " ('patrick', 'patrick@gmail.com')]"
      ]
     },
     "execution_count": 6,
     "metadata": {},
     "output_type": "execute_result"
    }
   ],
   "source": [
    "result.all()"
   ]
  },
  {
   "cell_type": "code",
   "execution_count": 7,
   "metadata": {},
   "outputs": [
    {
     "name": "stdout",
     "output_type": "stream",
     "text": [
      "2023-06-24 14:03:24,375 INFO sqlalchemy.engine.Engine SELECT user_account.username, email_address.email_address \n",
      "FROM user_account JOIN email_address ON user_account.id = email_address.user_id\n",
      "2023-06-24 14:03:24,376 INFO sqlalchemy.engine.Engine [generated in 0.00094s] ()\n"
     ]
    },
    {
     "data": {
      "text/plain": [
       "[('spongebob', 'spongebob@spongebob.com'),\n",
       " ('spongebob', 'spongebob@gmail.com'),\n",
       " ('sandy', 'sandy@yahoo.com'),\n",
       " ('patrick', 'patrick@gmail.com')]"
      ]
     },
     "execution_count": 7,
     "metadata": {},
     "output_type": "execute_result"
    }
   ],
   "source": [
    "# Join tables.\n",
    "# Foreign keys will be assumed as the column to join.\n",
    "stmt = select(\n",
    "    user_table.c.username, address_table.c.email_address\n",
    ").join_from(user_table, address_table)\n",
    "\n",
    "connection.execute(stmt).all()"
   ]
  },
  {
   "cell_type": "code",
   "execution_count": 17,
   "metadata": {},
   "outputs": [
    {
     "name": "stdout",
     "output_type": "stream",
     "text": [
      "2023-06-24 14:12:00,966 INFO sqlalchemy.engine.Engine SELECT user_account.username, email_address.email_address \n",
      "FROM user_account JOIN email_address ON user_account.id = email_address.user_id\n",
      "2023-06-24 14:12:00,967 INFO sqlalchemy.engine.Engine [cached since 123.7s ago] ()\n"
     ]
    },
    {
     "data": {
      "text/plain": [
       "[('spongebob', 'spongebob@spongebob.com'),\n",
       " ('spongebob', 'spongebob@gmail.com'),\n",
       " ('sandy', 'sandy@yahoo.com'),\n",
       " ('patrick', 'patrick@gmail.com')]"
      ]
     },
     "execution_count": 17,
     "metadata": {},
     "output_type": "execute_result"
    }
   ],
   "source": [
    "# Infer the left-most table.\n",
    "stmt = select(\n",
    "    user_table.c.username, address_table.c.email_address\n",
    ").join(address_table)\n",
    "\n",
    "connection.execute(stmt).all()"
   ]
  },
  {
   "cell_type": "code",
   "execution_count": 18,
   "metadata": {},
   "outputs": [
    {
     "name": "stdout",
     "output_type": "stream",
     "text": [
      "2023-06-24 14:12:01,641 INFO sqlalchemy.engine.Engine SELECT user_account.username, email_address.email_address \n",
      "FROM user_account JOIN email_address ON user_account.id = email_address.user_id\n",
      "2023-06-24 14:12:01,642 INFO sqlalchemy.engine.Engine [cached since 109.7s ago] ()\n"
     ]
    },
    {
     "data": {
      "text/plain": [
       "[('spongebob', 'spongebob@spongebob.com'),\n",
       " ('spongebob', 'spongebob@gmail.com'),\n",
       " ('sandy', 'sandy@yahoo.com'),\n",
       " ('patrick', 'patrick@gmail.com')]"
      ]
     },
     "execution_count": 18,
     "metadata": {},
     "output_type": "execute_result"
    }
   ],
   "source": [
    "# Express the join condition explicitly.\n",
    "stmt = select(\n",
    "    user_table.c.username, address_table.c.email_address\n",
    ").join_from(user_table, address_table, user_table.c.id == address_table.c.user_id)\n",
    "\n",
    "stmt = select(\n",
    "    user_table.c.username, address_table.c.email_address\n",
    ").join(address_table, user_table.c.id == address_table.c.user_id)\n",
    "\n",
    "connection.execute(stmt).all()"
   ]
  },
  {
   "cell_type": "code",
   "execution_count": 19,
   "metadata": {},
   "outputs": [
    {
     "name": "stdout",
     "output_type": "stream",
     "text": [
      "2023-06-24 14:30:14,923 INFO sqlalchemy.engine.Engine SELECT user_account.username, email_address_1.email_address, email_address_3.email_address AS email_address_2 \n",
      "FROM user_account JOIN email_address AS email_address_1 ON user_account.id = email_address_1.user_id JOIN email_address AS email_address_3 ON user_account.id = email_address_3.user_id \n",
      "WHERE email_address_1.email_address = ? AND email_address_3.email_address = ?\n",
      "2023-06-24 14:30:14,924 INFO sqlalchemy.engine.Engine [generated in 0.00138s] ('spongebob@spongebob.com', 'spongebob@gmail.com')\n"
     ]
    },
    {
     "data": {
      "text/plain": [
       "[('spongebob', 'spongebob@spongebob.com', 'spongebob@gmail.com')]"
      ]
     },
     "execution_count": 19,
     "metadata": {},
     "output_type": "execute_result"
    }
   ],
   "source": [
    "address_alias_1 = address_table.alias()\n",
    "address_alias_2 = address_table.alias()\n",
    "\n",
    "select_stmt = (\n",
    "    select(\n",
    "            user_table.c.username,\n",
    "            address_alias_1.c.email_address,\n",
    "            address_alias_2.c.email_address,\n",
    "    )\n",
    "    .join_from(user_table, address_alias_1)\n",
    "    .join_from(user_table, address_alias_2)\n",
    "    .where(address_alias_1.c.email_address == \"spongebob@spongebob.com\")\n",
    "    .where(address_alias_2.c.email_address == \"spongebob@gmail.com\")\n",
    ")\n",
    "\n",
    "connection.execute(select_stmt).all()"
   ]
  },
  {
   "cell_type": "code",
   "execution_count": 20,
   "metadata": {},
   "outputs": [
    {
     "name": "stdout",
     "output_type": "stream",
     "text": [
      "SELECT anon_1.username \n",
      "FROM (SELECT user_account.username AS username, email_address.email_address AS email_address \n",
      "FROM user_account JOIN email_address ON user_account.id = email_address.user_id) AS anon_1 \n",
      "WHERE anon_1.username = :username_1\n"
     ]
    }
   ],
   "source": [
    "# Subquery can be used as an alias.\n",
    "select_subq = (\n",
    "    select(user_table.c.username, address_table.c.email_address)\n",
    "    .join(address_table).subquery()\n",
    ")\n",
    "\n",
    "stmt = select(select_subq.c.username).where(\n",
    "    select_subq.c.username == \"spongebob\"\n",
    ")\n",
    "print(stmt)"
   ]
  },
  {
   "cell_type": "code",
   "execution_count": 22,
   "metadata": {},
   "outputs": [
    {
     "name": "stdout",
     "output_type": "stream",
     "text": [
      "2023-06-24 14:37:28,329 INFO sqlalchemy.engine.Engine SELECT user_account.username, anon_1.count \n",
      "FROM user_account JOIN (SELECT email_address.user_id AS user_id, count(email_address.id) AS count \n",
      "FROM email_address GROUP BY email_address.user_id) AS anon_1 ON user_account.id = anon_1.user_id ORDER BY user_account.username\n",
      "2023-06-24 14:37:28,330 INFO sqlalchemy.engine.Engine [generated in 0.00130s] ()\n"
     ]
    },
    {
     "data": {
      "text/plain": [
       "[('patrick', 1), ('sandy', 1), ('spongebob', 2)]"
      ]
     },
     "execution_count": 22,
     "metadata": {},
     "output_type": "execute_result"
    }
   ],
   "source": [
    "from sqlalchemy import func\n",
    "\n",
    "address_select = select(\n",
    "    address_table.c.user_id, func.count(address_table.c.id).label(\"count\")\n",
    ").group_by(address_table.c.user_id)\n",
    "\n",
    "address_subq = address_select.subquery()\n",
    "\n",
    "username_plus_count = (\n",
    "    select(user_table.c.username, address_subq.c.count)\n",
    "    .join(address_subq)\n",
    "    .order_by(user_table.c.username)\n",
    ")\n",
    "\n",
    "connection.execute(username_plus_count).all()"
   ]
  },
  {
   "cell_type": "code",
   "execution_count": 24,
   "metadata": {},
   "outputs": [
    {
     "name": "stdout",
     "output_type": "stream",
     "text": [
      "2023-06-24 14:47:49,029 INFO sqlalchemy.engine.Engine WITH anon_1 AS \n",
      "(SELECT email_address.user_id AS user_id, count(email_address.id) AS count \n",
      "FROM email_address GROUP BY email_address.user_id)\n",
      " SELECT user_account.username, anon_1.count \n",
      "FROM user_account JOIN anon_1 ON user_account.id = anon_1.user_id ORDER BY user_account.username\n",
      "2023-06-24 14:47:49,029 INFO sqlalchemy.engine.Engine [generated in 0.00086s] ()\n"
     ]
    },
    {
     "data": {
      "text/plain": [
       "[('patrick', 1), ('sandy', 1), ('spongebob', 2)]"
      ]
     },
     "execution_count": 24,
     "metadata": {},
     "output_type": "execute_result"
    }
   ],
   "source": [
    "# Common Table Expressions (CTE) similar to subqueries.\n",
    "address_cte = address_select.cte()\n",
    "\n",
    "username_plus_count = (\n",
    "    select(user_table.c.username, address_cte.c.count)\n",
    "    .join(address_cte)\n",
    "    .order_by(user_table.c.username)\n",
    ")\n",
    "\n",
    "connection.execute(username_plus_count).all()"
   ]
  },
  {
   "cell_type": "code",
   "execution_count": 29,
   "metadata": {},
   "outputs": [
    {
     "name": "stdout",
     "output_type": "stream",
     "text": [
      "(SELECT count(email_address.id) AS count_1 \n",
      "FROM email_address, user_account \n",
      "WHERE user_account.id = email_address.user_id)\n"
     ]
    }
   ],
   "source": [
    "# Correlated subqueries will be evaluated for each row of the outer query.\n",
    "address_corr = (\n",
    "    select(func.count(address_table.c.id))\n",
    "    .where(user_table.c.id == address_table.c.user_id)\n",
    "    .scalar_subquery()\n",
    ")\n",
    "\n",
    "print(address_corr)\n",
    "# connection.execute(address_corr).all()\n"
   ]
  },
  {
   "cell_type": "code",
   "execution_count": 30,
   "metadata": {},
   "outputs": [
    {
     "name": "stdout",
     "output_type": "stream",
     "text": [
      "SELECT user_account.username, (SELECT count(email_address.id) AS count_1 \n",
      "FROM email_address \n",
      "WHERE user_account.id = email_address.user_id) AS anon_1 \n",
      "FROM user_account\n",
      "2023-06-24 14:54:10,547 INFO sqlalchemy.engine.Engine SELECT user_account.username, (SELECT count(email_address.id) AS count_1 \n",
      "FROM email_address \n",
      "WHERE user_account.id = email_address.user_id) AS anon_1 \n",
      "FROM user_account\n",
      "2023-06-24 14:54:10,548 INFO sqlalchemy.engine.Engine [cached since 172.5s ago] ()\n"
     ]
    },
    {
     "data": {
      "text/plain": [
       "[('spongebob', 2), ('sandy', 1), ('patrick', 1)]"
      ]
     },
     "execution_count": 30,
     "metadata": {},
     "output_type": "execute_result"
    }
   ],
   "source": [
    "select_stmt = select(user_table.c.username, address_corr)\n",
    "print(select_stmt)\n",
    "connection.execute(select_stmt).all()"
   ]
  },
  {
   "cell_type": "code",
   "execution_count": null,
   "metadata": {},
   "outputs": [],
   "source": []
  }
 ],
 "metadata": {
  "kernelspec": {
   "display_name": "fastapi",
   "language": "python",
   "name": "python3"
  },
  "language_info": {
   "codemirror_mode": {
    "name": "ipython",
    "version": 3
   },
   "file_extension": ".py",
   "mimetype": "text/x-python",
   "name": "python",
   "nbconvert_exporter": "python",
   "pygments_lexer": "ipython3",
   "version": "3.8.0"
  },
  "orig_nbformat": 4
 },
 "nbformat": 4,
 "nbformat_minor": 2
}
