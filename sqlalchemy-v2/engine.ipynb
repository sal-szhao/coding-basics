{
 "cells": [
  {
   "cell_type": "code",
   "execution_count": 100,
   "metadata": {},
   "outputs": [],
   "source": [
    "import os\n",
    "from sqlalchemy import create_engine\n",
    "from sqlalchemy import text"
   ]
  },
  {
   "cell_type": "code",
   "execution_count": 101,
   "metadata": {},
   "outputs": [],
   "source": [
    "# Create fake database.\n",
    "\n",
    "if os.path.exists(\"some.db\"):\n",
    "    os.remove(\"some.db\")\n",
    "e = create_engine(\"sqlite:///some.db\")\n",
    "with e.begin() as conn:\n",
    "    conn.execute(\n",
    "        text(\n",
    "            \"\"\"\n",
    "        create table employee (\n",
    "            emp_id integer primary key,\n",
    "            emp_name varchar\n",
    "        )\n",
    "    \"\"\"\n",
    "        )\n",
    "    )\n",
    "\n",
    "    conn.execute(\n",
    "        text(\n",
    "            \"\"\"\n",
    "        create table employee_of_month (\n",
    "            emp_id integer primary key,\n",
    "            emp_name varchar\n",
    "        )\n",
    "    \"\"\"\n",
    "        )\n",
    "    )\n",
    "\n",
    "    conn.execute(\n",
    "        text(\"insert into employee(emp_name) values (:name)\"),\n",
    "        [{\"name\": \"spongebob\"}, {\"name\": \"sandy\"}, {\"name\": \"squidward\"}],\n",
    "    )\n"
   ]
  },
  {
   "attachments": {},
   "cell_type": "markdown",
   "metadata": {},
   "source": [
    "Normal DBAPI will be using following codes.\n",
    "\n",
    "``` python\n",
    "connection = ...\n",
    "\n",
    "cursor = connection.cursor()\n",
    "cursor.execute(...)\n",
    "result = cursor.fetchall()\n",
    "\n",
    "cursor.close()\n",
    "connection.commit()\n",
    "``` "
   ]
  },
  {
   "attachments": {},
   "cell_type": "markdown",
   "metadata": {},
   "source": [
    "Setting future to be `True` will preventing SQLAlchemy v2.0 from using python2 and other deprecated feateures."
   ]
  },
  {
   "cell_type": "code",
   "execution_count": 102,
   "metadata": {},
   "outputs": [
    {
     "data": {
      "text/plain": [
       "sqlalchemy.future.engine.Engine"
      ]
     },
     "execution_count": 102,
     "metadata": {},
     "output_type": "execute_result"
    }
   ],
   "source": [
    "engine = create_engine(\"sqlite:///some.db\", future=True, echo=True)\n",
    "type(engine)"
   ]
  },
  {
   "cell_type": "code",
   "execution_count": 103,
   "metadata": {},
   "outputs": [
    {
     "data": {
      "text/plain": [
       "<sqlalchemy.future.engine.Connection at 0x7fde978319d0>"
      ]
     },
     "execution_count": 103,
     "metadata": {},
     "output_type": "execute_result"
    }
   ],
   "source": [
    "connection = engine.connect()\n",
    "connection"
   ]
  },
  {
   "cell_type": "code",
   "execution_count": 104,
   "metadata": {},
   "outputs": [
    {
     "data": {
      "text/plain": [
       "<sqlite3.Connection at 0x7fdec142bc60>"
      ]
     },
     "execution_count": 104,
     "metadata": {},
     "output_type": "execute_result"
    }
   ],
   "source": [
    "connection.connection.connection"
   ]
  },
  {
   "cell_type": "code",
   "execution_count": 105,
   "metadata": {},
   "outputs": [
    {
     "name": "stdout",
     "output_type": "stream",
     "text": [
      "2023-06-23 20:22:03,722 INFO sqlalchemy.engine.Engine BEGIN (implicit)\n",
      "2023-06-23 20:22:03,723 INFO sqlalchemy.engine.Engine select emp_id, emp_name from employee where emp_id=?\n",
      "2023-06-23 20:22:03,724 INFO sqlalchemy.engine.Engine [generated in 0.00128s] (2,)\n"
     ]
    }
   ],
   "source": [
    "stmt = text(\"select emp_id, emp_name from employee where emp_id=:emp_id\")\n",
    "result = connection.execute(stmt, {\"emp_id\": 2})"
   ]
  },
  {
   "cell_type": "code",
   "execution_count": 106,
   "metadata": {},
   "outputs": [],
   "source": [
    "# Result is like a cursor. Using first() will return the content and close the result.\n",
    "row = result.first()"
   ]
  },
  {
   "cell_type": "code",
   "execution_count": 107,
   "metadata": {},
   "outputs": [
    {
     "name": "stdout",
     "output_type": "stream",
     "text": [
      "(2, 'sandy')\n",
      "sandy\n",
      "sandy\n",
      "sandy\n"
     ]
    }
   ],
   "source": [
    "print(row)\n",
    "print(row[1])\n",
    "print(row.emp_name)\n",
    "print(row['emp_name'])"
   ]
  },
  {
   "cell_type": "code",
   "execution_count": 108,
   "metadata": {},
   "outputs": [
    {
     "name": "stdout",
     "output_type": "stream",
     "text": [
      "sandy\n",
      "RMKeyView(['emp_id', 'emp_name'])\n",
      "ROMappingView({'emp_id': 2, 'emp_name': 'sandy'})\n"
     ]
    }
   ],
   "source": [
    "print(row._mapping[\"emp_name\"])\n",
    "print(row._mapping.keys())\n",
    "print(row._mapping.values())"
   ]
  },
  {
   "cell_type": "code",
   "execution_count": 110,
   "metadata": {},
   "outputs": [
    {
     "name": "stdout",
     "output_type": "stream",
     "text": [
      "2023-06-23 20:22:32,105 INFO sqlalchemy.engine.Engine select * from employee\n",
      "2023-06-23 20:22:32,106 INFO sqlalchemy.engine.Engine [cached since 25.69s ago] ()\n",
      "employee id: spongebob  employee name: 1\n",
      "employee id: sandy  employee name: 2\n",
      "employee id: squidward  employee name: 3\n"
     ]
    },
    {
     "data": {
      "text/plain": [
       "[]"
      ]
     },
     "execution_count": 110,
     "metadata": {},
     "output_type": "execute_result"
    }
   ],
   "source": [
    "result = connection.execute(text(\"select * from employee\"))\n",
    "for emp_name, emp_id in result:\n",
    "    print(f\"employee id: {emp_id}  employee name: {emp_name}\")\n",
    "result.all()"
   ]
  },
  {
   "attachments": {},
   "cell_type": "markdown",
   "metadata": {},
   "source": [
    "Normally closing a connection will not actually close the connection. Instead it will put the connection back to the connection pool."
   ]
  },
  {
   "cell_type": "code",
   "execution_count": 95,
   "metadata": {},
   "outputs": [
    {
     "name": "stdout",
     "output_type": "stream",
     "text": [
      "2023-06-23 20:20:00,934 INFO sqlalchemy.engine.Engine ROLLBACK\n"
     ]
    }
   ],
   "source": [
    "connection.close()"
   ]
  },
  {
   "cell_type": "code",
   "execution_count": 98,
   "metadata": {},
   "outputs": [
    {
     "name": "stdout",
     "output_type": "stream",
     "text": [
      "2023-06-23 20:20:33,610 INFO sqlalchemy.engine.Engine BEGIN (implicit)\n",
      "2023-06-23 20:20:33,611 INFO sqlalchemy.engine.Engine select * from employee\n",
      "2023-06-23 20:20:33,611 INFO sqlalchemy.engine.Engine [cached since 37.32s ago] ()\n",
      "[(1, 'spongebob'), (2, 'sandy'), (3, 'squidward')]\n",
      "2023-06-23 20:20:33,612 INFO sqlalchemy.engine.Engine ROLLBACK\n"
     ]
    }
   ],
   "source": [
    "# Use context managers to make connections.\n",
    "# Results will be gone when connection is closed.\n",
    "\n",
    "with engine.connect() as connection:\n",
    "    rows = connection.execute(text(\"select * from employee\"))\n",
    "    print(rows.all())"
   ]
  },
  {
   "attachments": {},
   "cell_type": "markdown",
   "metadata": {},
   "source": [
    "SQLAlchemy will not commit automatically. So `.commit()` will be needed."
   ]
  },
  {
   "cell_type": "code",
   "execution_count": 74,
   "metadata": {},
   "outputs": [
    {
     "name": "stdout",
     "output_type": "stream",
     "text": [
      "2023-06-23 20:16:29,925 INFO sqlalchemy.engine.Engine BEGIN (implicit)\n",
      "2023-06-23 20:16:29,925 INFO sqlalchemy.engine.Engine insert into employee_of_month (emp_name) values (?)\n",
      "2023-06-23 20:16:29,926 INFO sqlalchemy.engine.Engine [generated in 0.00104s] ('sandy',)\n",
      "2023-06-23 20:16:29,928 INFO sqlalchemy.engine.Engine COMMIT\n"
     ]
    }
   ],
   "source": [
    "with engine.connect() as connection:\n",
    "    connection.execute(  \n",
    "        text(\"insert into employee_of_month (emp_name) values (:emp_name)\"),\n",
    "        {\"emp_name\": \"sandy\"}\n",
    "    )\n",
    "    connection.commit()"
   ]
  },
  {
   "attachments": {},
   "cell_type": "markdown",
   "metadata": {},
   "source": [
    "`begin` will begin a transaction that will automatically commit or rollback at the end of the transaction. Normal connection will only automatically roll back."
   ]
  },
  {
   "cell_type": "code",
   "execution_count": 75,
   "metadata": {},
   "outputs": [
    {
     "name": "stdout",
     "output_type": "stream",
     "text": [
      "2023-06-23 20:16:30,988 INFO sqlalchemy.engine.Engine BEGIN (implicit)\n",
      "2023-06-23 20:16:30,989 INFO sqlalchemy.engine.Engine insert into employee_of_month (emp_name) values (?)\n",
      "2023-06-23 20:16:30,989 INFO sqlalchemy.engine.Engine [cached since 1.064s ago] ('squidward',)\n",
      "2023-06-23 20:16:30,990 INFO sqlalchemy.engine.Engine COMMIT\n"
     ]
    }
   ],
   "source": [
    "with engine.begin() as connection:\n",
    "    connection.execute(\n",
    "        text(\"insert into employee_of_month (emp_name) values (:emp_name)\"),\n",
    "        {\"emp_name\": \"squidward\"},\n",
    "    )"
   ]
  },
  {
   "cell_type": "code",
   "execution_count": 76,
   "metadata": {},
   "outputs": [
    {
     "name": "stdout",
     "output_type": "stream",
     "text": [
      "2023-06-23 20:16:31,549 INFO sqlalchemy.engine.Engine BEGIN (implicit)\n",
      "2023-06-23 20:16:31,549 INFO sqlalchemy.engine.Engine update employee_of_month set emp_name = ?\n",
      "2023-06-23 20:16:31,550 INFO sqlalchemy.engine.Engine [generated in 0.00039s] ('squidward',)\n",
      "2023-06-23 20:16:31,551 INFO sqlalchemy.engine.Engine COMMIT\n"
     ]
    }
   ],
   "source": [
    "with engine.connect() as connection:\n",
    "    with connection.begin():\n",
    "        connection.execute(\n",
    "            text(\"update employee_of_month set emp_name = :emp_name\"),\n",
    "            {\"emp_name\": \"squidward\"},\n",
    "        )"
   ]
  },
  {
   "cell_type": "code",
   "execution_count": 77,
   "metadata": {},
   "outputs": [
    {
     "name": "stdout",
     "output_type": "stream",
     "text": [
      "2023-06-23 20:16:31,995 INFO sqlalchemy.engine.Engine BEGIN (implicit)\n",
      "2023-06-23 20:16:31,996 INFO sqlalchemy.engine.Engine SAVEPOINT sa_savepoint_1\n",
      "2023-06-23 20:16:31,996 INFO sqlalchemy.engine.Engine [no key 0.00045s] ()\n",
      "2023-06-23 20:16:31,997 INFO sqlalchemy.engine.Engine update employee_of_month set emp_name = ?\n",
      "2023-06-23 20:16:31,998 INFO sqlalchemy.engine.Engine [cached since 0.4483s ago] ('patrick',)\n",
      "2023-06-23 20:16:31,999 INFO sqlalchemy.engine.Engine ROLLBACK TO SAVEPOINT sa_savepoint_1\n",
      "2023-06-23 20:16:31,999 INFO sqlalchemy.engine.Engine [no key 0.00039s] ()\n",
      "2023-06-23 20:16:32,000 INFO sqlalchemy.engine.Engine SAVEPOINT sa_savepoint_2\n",
      "2023-06-23 20:16:32,000 INFO sqlalchemy.engine.Engine [no key 0.00049s] ()\n",
      "2023-06-23 20:16:32,001 INFO sqlalchemy.engine.Engine update employee_of_month set emp_name = ?\n",
      "2023-06-23 20:16:32,002 INFO sqlalchemy.engine.Engine [cached since 0.4522s ago] ('spongebob',)\n",
      "2023-06-23 20:16:32,002 INFO sqlalchemy.engine.Engine RELEASE SAVEPOINT sa_savepoint_2\n",
      "2023-06-23 20:16:32,003 INFO sqlalchemy.engine.Engine [no key 0.00032s] ()\n",
      "2023-06-23 20:16:32,003 INFO sqlalchemy.engine.Engine COMMIT\n"
     ]
    }
   ],
   "source": [
    "with engine.connect() as connection:\n",
    "    with connection.begin():\n",
    "        savepoint = connection.begin_nested()\n",
    "        connection.execute(\n",
    "            text(\"update employee_of_month set emp_name = :emp_name\"),\n",
    "            {\"emp_name\": \"patrick\"},\n",
    "        )\n",
    "        savepoint.rollback()\n",
    "\n",
    "        with connection.begin_nested() as savepoint:\n",
    "            connection.execute(\n",
    "                text(\"update employee_of_month set emp_name = :emp_name\"),\n",
    "                {\"emp_name\": \"spongebob\"},\n",
    "            )"
   ]
  },
  {
   "cell_type": "code",
   "execution_count": 78,
   "metadata": {},
   "outputs": [
    {
     "name": "stdout",
     "output_type": "stream",
     "text": [
      "2023-06-23 20:16:32,517 INFO sqlalchemy.engine.Engine BEGIN (implicit; DBAPI should not BEGIN due to autocommit mode)\n",
      "2023-06-23 20:16:32,517 INFO sqlalchemy.engine.Engine insert into employee(emp_name) values (?)\n",
      "2023-06-23 20:16:32,518 INFO sqlalchemy.engine.Engine [generated in 0.00090s] ('plankton',)\n",
      "2023-06-23 20:16:32,520 INFO sqlalchemy.engine.Engine ROLLBACK using DBAPI connection.rollback(), DBAPI should ignore due to autocommit mode\n"
     ]
    }
   ],
   "source": [
    "with engine.connect().execution_options(isolation_level=\"AUTOCOMMIT\") as connection:\n",
    "    connection.execute(\n",
    "        text(\"insert into employee(emp_name) values (:name)\"),\n",
    "        {\"name\": \"plankton\"},\n",
    "    )"
   ]
  },
  {
   "cell_type": "code",
   "execution_count": 79,
   "metadata": {},
   "outputs": [
    {
     "name": "stdout",
     "output_type": "stream",
     "text": [
      "2023-06-23 20:16:33,110 INFO sqlalchemy.engine.Engine BEGIN (implicit)\n",
      "2023-06-23 20:16:33,110 INFO sqlalchemy.engine.Engine select emp_id from employee where emp_name=?\n",
      "2023-06-23 20:16:33,111 INFO sqlalchemy.engine.Engine [generated in 0.00077s] ('plankton',)\n",
      "4\n",
      "2023-06-23 20:16:33,111 INFO sqlalchemy.engine.Engine ROLLBACK\n"
     ]
    }
   ],
   "source": [
    "with engine.connect() as connection:\n",
    "    planktons_id = connection.execute(\n",
    "        text(\"select emp_id from employee where emp_name=:name\"),\n",
    "        {\"name\": \"plankton\"}\n",
    "    ).scalar()\n",
    "    print(planktons_id)"
   ]
  },
  {
   "cell_type": "code",
   "execution_count": null,
   "metadata": {},
   "outputs": [],
   "source": []
  }
 ],
 "metadata": {
  "kernelspec": {
   "display_name": "fastapi",
   "language": "python",
   "name": "python3"
  },
  "language_info": {
   "codemirror_mode": {
    "name": "ipython",
    "version": 3
   },
   "file_extension": ".py",
   "mimetype": "text/x-python",
   "name": "python",
   "nbconvert_exporter": "python",
   "pygments_lexer": "ipython3",
   "version": "3.8.0"
  },
  "orig_nbformat": 4
 },
 "nbformat": 4,
 "nbformat_minor": 2
}
