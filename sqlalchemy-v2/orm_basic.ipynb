{
 "cells": [
  {
   "cell_type": "code",
   "execution_count": 1,
   "metadata": {},
   "outputs": [],
   "source": [
    "# Central object of ORM is registry.\n",
    "from sqlalchemy.orm import registry\n",
    "\n",
    "mapper_registry = registry()"
   ]
  },
  {
   "cell_type": "code",
   "execution_count": 2,
   "metadata": {},
   "outputs": [],
   "source": [
    "from sqlalchemy import Column, Integer, String\n",
    "\n",
    "# Use registry as a decorator.\n",
    "@mapper_registry.mapped\n",
    "class User:\n",
    "    __tablename__ = \"user_account\"\n",
    "\n",
    "    id = Column(Integer, primary_key=True)\n",
    "    username = Column(String)\n",
    "    fullname = Column(String)\n",
    "\n",
    "    def __repr__(self):\n",
    "        return \"<User(%r, %r)>\" % (self.username, self.fullname)"
   ]
  },
  {
   "cell_type": "code",
   "execution_count": 3,
   "metadata": {},
   "outputs": [
    {
     "data": {
      "text/plain": [
       "Table('user_account', MetaData(), Column('id', Integer(), table=<user_account>, primary_key=True, nullable=False), Column('username', String(), table=<user_account>), Column('fullname', String(), table=<user_account>), schema=None)"
      ]
     },
     "execution_count": 3,
     "metadata": {},
     "output_type": "execute_result"
    }
   ],
   "source": [
    "# the User class now has a Table object associated with it.\n",
    "User.__table__"
   ]
  },
  {
   "cell_type": "code",
   "execution_count": 5,
   "metadata": {},
   "outputs": [
    {
     "data": {
      "text/plain": [
       "'user_account'"
      ]
     },
     "execution_count": 5,
     "metadata": {},
     "output_type": "execute_result"
    }
   ],
   "source": [
    "User.__tablename__"
   ]
  },
  {
   "cell_type": "code",
   "execution_count": 4,
   "metadata": {},
   "outputs": [
    {
     "data": {
      "text/plain": [
       "<Mapper at 0x7fab84c3ec10; User>"
      ]
     },
     "execution_count": 4,
     "metadata": {},
     "output_type": "execute_result"
    }
   ],
   "source": [
    "User.__mapper__"
   ]
  },
  {
   "cell_type": "code",
   "execution_count": 7,
   "metadata": {},
   "outputs": [
    {
     "name": "stdout",
     "output_type": "stream",
     "text": [
      "SELECT user_account.id, user_account.username, user_account.fullname \n",
      "FROM user_account\n"
     ]
    }
   ],
   "source": [
    "from sqlalchemy import select\n",
    "\n",
    "print(select(User.__table__))"
   ]
  },
  {
   "cell_type": "code",
   "execution_count": 8,
   "metadata": {},
   "outputs": [
    {
     "data": {
      "text/plain": [
       "<User('spongebob', 'Spongebob Squarepants')>"
      ]
     },
     "execution_count": 8,
     "metadata": {},
     "output_type": "execute_result"
    }
   ],
   "source": [
    "spongebob = User(username=\"spongebob\", fullname=\"Spongebob Squarepants\")\n",
    "spongebob"
   ]
  },
  {
   "cell_type": "code",
   "execution_count": 12,
   "metadata": {},
   "outputs": [
    {
     "data": {
      "text/plain": [
       "'None'"
      ]
     },
     "execution_count": 12,
     "metadata": {},
     "output_type": "execute_result"
    }
   ],
   "source": [
    "repr(spongebob.id)"
   ]
  },
  {
   "cell_type": "code",
   "execution_count": 14,
   "metadata": {},
   "outputs": [
    {
     "name": "stdout",
     "output_type": "stream",
     "text": [
      "2023-06-24 18:49:56,507 INFO sqlalchemy.engine.Engine BEGIN (implicit)\n",
      "2023-06-24 18:49:56,508 INFO sqlalchemy.engine.Engine PRAGMA main.table_info(\"user_account\")\n",
      "2023-06-24 18:49:56,508 INFO sqlalchemy.engine.Engine [raw sql] ()\n",
      "2023-06-24 18:49:56,509 INFO sqlalchemy.engine.Engine PRAGMA temp.table_info(\"user_account\")\n",
      "2023-06-24 18:49:56,510 INFO sqlalchemy.engine.Engine [raw sql] ()\n",
      "2023-06-24 18:49:56,510 INFO sqlalchemy.engine.Engine \n",
      "CREATE TABLE user_account (\n",
      "\tid INTEGER NOT NULL, \n",
      "\tusername VARCHAR, \n",
      "\tfullname VARCHAR, \n",
      "\tPRIMARY KEY (id)\n",
      ")\n",
      "\n",
      "\n",
      "2023-06-24 18:49:56,511 INFO sqlalchemy.engine.Engine [no key 0.00033s] ()\n",
      "2023-06-24 18:49:56,511 INFO sqlalchemy.engine.Engine COMMIT\n"
     ]
    }
   ],
   "source": [
    "# Create a database schema.\n",
    "from sqlalchemy import create_engine\n",
    "\n",
    "engine = create_engine(\"sqlite://\", echo=True)\n",
    "with engine.begin() as connection:\n",
    "    mapper_registry.metadata.create_all(connection)"
   ]
  },
  {
   "cell_type": "code",
   "execution_count": 15,
   "metadata": {},
   "outputs": [],
   "source": [
    "# Session will handle the job of connecting, committing, and \n",
    "# releasing connections to this engine.\n",
    "from sqlalchemy.orm import sessionmaker\n",
    "\n",
    "Session = sessionmaker(bind=engine, future=True)\n",
    "\n",
    "session = Session()\n",
    "\n",
    "session.add(spongebob)"
   ]
  },
  {
   "cell_type": "code",
   "execution_count": 17,
   "metadata": {},
   "outputs": [
    {
     "data": {
      "text/plain": [
       "IdentitySet([<User('spongebob', 'Spongebob Squarepants')>])"
      ]
     },
     "execution_count": 17,
     "metadata": {},
     "output_type": "execute_result"
    }
   ],
   "source": [
    "# The newly added entry will not be commited directly, which is a pending object.\n",
    "session.new"
   ]
  },
  {
   "cell_type": "code",
   "execution_count": 18,
   "metadata": {},
   "outputs": [
    {
     "name": "stdout",
     "output_type": "stream",
     "text": [
      "2023-06-24 19:09:59,495 INFO sqlalchemy.engine.Engine BEGIN (implicit)\n",
      "2023-06-24 19:09:59,497 INFO sqlalchemy.engine.Engine INSERT INTO user_account (username, fullname) VALUES (?, ?)\n",
      "2023-06-24 19:09:59,498 INFO sqlalchemy.engine.Engine [generated in 0.00076s] ('spongebob', 'Spongebob Squarepants')\n",
      "2023-06-24 19:09:59,499 INFO sqlalchemy.engine.Engine SELECT user_account.id, user_account.username, user_account.fullname \n",
      "FROM user_account \n",
      "WHERE user_account.username = ?\n",
      "2023-06-24 19:09:59,500 INFO sqlalchemy.engine.Engine [generated in 0.00034s] ('spongebob',)\n"
     ]
    }
   ],
   "source": [
    "# Query the row will first autoflush the pending changes. Then return the query result.\n",
    "from sqlalchemy import select\n",
    "\n",
    "select_statement = select(User).filter_by(username=\"spongebob\")\n",
    "result = session.execute(select_statement)"
   ]
  },
  {
   "cell_type": "code",
   "execution_count": 19,
   "metadata": {},
   "outputs": [
    {
     "data": {
      "text/plain": [
       "<User('spongebob', 'Spongebob Squarepants')>"
      ]
     },
     "execution_count": 19,
     "metadata": {},
     "output_type": "execute_result"
    }
   ],
   "source": [
    "# .scalar() will return the first column of each row.\n",
    "also_spongebob = result.scalar()\n",
    "also_spongebob"
   ]
  },
  {
   "cell_type": "code",
   "execution_count": 20,
   "metadata": {},
   "outputs": [
    {
     "data": {
      "text/plain": [
       "1"
      ]
     },
     "execution_count": 20,
     "metadata": {},
     "output_type": "execute_result"
    }
   ],
   "source": [
    "# The row has been inserted so it has an id now.\n",
    "spongebob.id"
   ]
  },
  {
   "cell_type": "code",
   "execution_count": 21,
   "metadata": {},
   "outputs": [
    {
     "data": {
      "text/plain": [
       "True"
      ]
     },
     "execution_count": 21,
     "metadata": {},
     "output_type": "execute_result"
    }
   ],
   "source": [
    "# The retrieved row is exactly the inserted object.\n",
    "spongebob is also_spongebob"
   ]
  },
  {
   "cell_type": "code",
   "execution_count": 22,
   "metadata": {},
   "outputs": [
    {
     "data": {
      "text/plain": [
       "[((__main__.User, (1,), None), <User('spongebob', 'Spongebob Squarepants')>)]"
      ]
     },
     "execution_count": 22,
     "metadata": {},
     "output_type": "execute_result"
    }
   ],
   "source": [
    "session.identity_map.items()"
   ]
  },
  {
   "cell_type": "code",
   "execution_count": 23,
   "metadata": {},
   "outputs": [],
   "source": [
    "session.add_all(\n",
    "    [\n",
    "        User(username=\"patrick\", fullname=\"Patrick Star\"),\n",
    "        User(username=\"sandy\", fullname=\"Sandy Cheeks\"),\n",
    "    ]\n",
    ")"
   ]
  },
  {
   "cell_type": "code",
   "execution_count": 24,
   "metadata": {},
   "outputs": [],
   "source": [
    "# The object will be marked as dirty.\n",
    "spongebob.fullname = \"Spongebob Jones\""
   ]
  },
  {
   "cell_type": "code",
   "execution_count": 27,
   "metadata": {},
   "outputs": [
    {
     "name": "stdout",
     "output_type": "stream",
     "text": [
      "IdentitySet([<User('spongebob', 'Spongebob Jones')>])\n",
      "IdentitySet([<User('patrick', 'Patrick Star')>, <User('sandy', 'Sandy Cheeks')>])\n"
     ]
    }
   ],
   "source": [
    "print(session.dirty)\n",
    "print(session.new)"
   ]
  },
  {
   "cell_type": "code",
   "execution_count": 31,
   "metadata": {},
   "outputs": [
    {
     "name": "stdout",
     "output_type": "stream",
     "text": [
      "2023-06-24 19:30:09,675 INFO sqlalchemy.engine.Engine COMMIT\n"
     ]
    }
   ],
   "source": [
    "# The transaction is committed, followed by a flush of the changes.\n",
    "session.commit()"
   ]
  },
  {
   "cell_type": "code",
   "execution_count": 32,
   "metadata": {},
   "outputs": [
    {
     "name": "stdout",
     "output_type": "stream",
     "text": [
      "2023-06-24 19:30:12,037 INFO sqlalchemy.engine.Engine BEGIN (implicit)\n",
      "2023-06-24 19:30:12,038 INFO sqlalchemy.engine.Engine SELECT user_account.id AS user_account_id, user_account.username AS user_account_username, user_account.fullname AS user_account_fullname \n",
      "FROM user_account \n",
      "WHERE user_account.id = ?\n",
      "2023-06-24 19:30:12,038 INFO sqlalchemy.engine.Engine [cached since 562s ago] (1,)\n"
     ]
    },
    {
     "data": {
      "text/plain": [
       "'Spongebob Jones'"
      ]
     },
     "execution_count": 32,
     "metadata": {},
     "output_type": "execute_result"
    }
   ],
   "source": [
    "# After the session is commited,the session invalidates all the data aand remove the transaction.\n",
    "# Access the old objects will need new queries.\n",
    "spongebob.fullname"
   ]
  },
  {
   "cell_type": "code",
   "execution_count": 33,
   "metadata": {},
   "outputs": [
    {
     "name": "stdout",
     "output_type": "stream",
     "text": [
      "2023-06-24 19:38:34,360 INFO sqlalchemy.engine.Engine UPDATE user_account SET username=? WHERE user_account.id = ?\n",
      "2023-06-24 19:38:34,361 INFO sqlalchemy.engine.Engine [generated in 0.00111s] ('Spongy', 1)\n",
      "2023-06-24 19:38:34,362 INFO sqlalchemy.engine.Engine INSERT INTO user_account (username, fullname) VALUES (?, ?)\n",
      "2023-06-24 19:38:34,362 INFO sqlalchemy.engine.Engine [cached since 1715s ago] ('fakeuser', 'Invalid')\n",
      "2023-06-24 19:38:34,363 INFO sqlalchemy.engine.Engine SELECT user_account.id, user_account.username, user_account.fullname \n",
      "FROM user_account \n",
      "WHERE user_account.username IN (?, ?)\n",
      "2023-06-24 19:38:34,364 INFO sqlalchemy.engine.Engine [generated in 0.00039s] ('Spongy', 'fakeuser')\n"
     ]
    },
    {
     "data": {
      "text/plain": [
       "[(<User('Spongy', 'Spongebob Jones')>,), (<User('fakeuser', 'Invalid')>,)]"
      ]
     },
     "execution_count": 33,
     "metadata": {},
     "output_type": "execute_result"
    }
   ],
   "source": [
    "# Roll back the transaction.\n",
    "spongebob.username = \"Spongy\"\n",
    "fake_user = User(username=\"fakeuser\", fullname=\"Invalid\")\n",
    "session.add(fake_user)\n",
    "\n",
    "result = session.execute(\n",
    "    select(User).where(User.username.in_([\"Spongy\", \"fakeuser\"]))\n",
    ")\n",
    "result.all()"
   ]
  },
  {
   "cell_type": "code",
   "execution_count": 34,
   "metadata": {},
   "outputs": [
    {
     "name": "stdout",
     "output_type": "stream",
     "text": [
      "2023-06-24 19:39:24,581 INFO sqlalchemy.engine.Engine ROLLBACK\n",
      "2023-06-24 19:39:24,582 INFO sqlalchemy.engine.Engine BEGIN (implicit)\n",
      "2023-06-24 19:39:24,583 INFO sqlalchemy.engine.Engine SELECT user_account.id AS user_account_id, user_account.username AS user_account_username, user_account.fullname AS user_account_fullname \n",
      "FROM user_account \n",
      "WHERE user_account.id = ?\n",
      "2023-06-24 19:39:24,583 INFO sqlalchemy.engine.Engine [cached since 1115s ago] (1,)\n",
      "spongebob\n",
      "False\n"
     ]
    }
   ],
   "source": [
    "session.rollback()\n",
    "\n",
    "print(spongebob.username)\n",
    "print(fake_user in session)     # Data is gone from the session."
   ]
  },
  {
   "cell_type": "code",
   "execution_count": 37,
   "metadata": {},
   "outputs": [
    {
     "name": "stdout",
     "output_type": "stream",
     "text": [
      "2023-06-24 19:41:01,554 INFO sqlalchemy.engine.Engine SELECT user_account.id, user_account.username, user_account.fullname \n",
      "FROM user_account \n",
      "WHERE user_account.username IN (?, ?)\n",
      "2023-06-24 19:41:01,555 INFO sqlalchemy.engine.Engine [cached since 147.2s ago] ('spongebob', 'fakeuser')\n"
     ]
    },
    {
     "data": {
      "text/plain": [
       "[(<User('spongebob', 'Spongebob Jones')>,)]"
      ]
     },
     "execution_count": 37,
     "metadata": {},
     "output_type": "execute_result"
    }
   ],
   "source": [
    "# The data is also gone from the database.\n",
    "result = session.execute(\n",
    "    select(User).where(User.username.in_([\"spongebob\", \"fakeuser\"]))\n",
    ")\n",
    "result.all()"
   ]
  },
  {
   "cell_type": "code",
   "execution_count": 38,
   "metadata": {},
   "outputs": [
    {
     "name": "stdout",
     "output_type": "stream",
     "text": [
      "user_account.username = :username_1\n"
     ]
    }
   ],
   "source": [
    "print(User.username == \"spongebob\")"
   ]
  },
  {
   "cell_type": "code",
   "execution_count": 39,
   "metadata": {},
   "outputs": [
    {
     "name": "stdout",
     "output_type": "stream",
     "text": [
      "2023-06-24 19:56:19,752 INFO sqlalchemy.engine.Engine SELECT user_account.id, user_account.username, user_account.fullname \n",
      "FROM user_account \n",
      "WHERE user_account.username = ? ORDER BY user_account.id\n",
      "2023-06-24 19:56:19,752 INFO sqlalchemy.engine.Engine [generated in 0.00095s] ('spongebob',)\n",
      "(<User('spongebob', 'Spongebob Jones')>,)\n"
     ]
    }
   ],
   "source": [
    "query = (\n",
    "    select(User).where(User.username == \"spongebob\").order_by(User.id)\n",
    ")\n",
    "\n",
    "# Return a tuple representing one row.\n",
    "result = session.execute(query)\n",
    "for row in result:\n",
    "    print(row)"
   ]
  },
  {
   "cell_type": "code",
   "execution_count": 40,
   "metadata": {},
   "outputs": [
    {
     "name": "stdout",
     "output_type": "stream",
     "text": [
      "2023-06-24 19:58:40,607 INFO sqlalchemy.engine.Engine SELECT user_account.id, user_account.username, user_account.fullname \n",
      "FROM user_account \n",
      "WHERE user_account.username = ? ORDER BY user_account.id\n",
      "2023-06-24 19:58:40,608 INFO sqlalchemy.engine.Engine [cached since 140.9s ago] ('spongebob',)\n",
      "<User('spongebob', 'Spongebob Jones')>\n"
     ]
    }
   ],
   "source": [
    "result = session.execute(query)\n",
    "for user_obj in result.scalars():\n",
    "    print(user_obj)"
   ]
  },
  {
   "cell_type": "code",
   "execution_count": 41,
   "metadata": {},
   "outputs": [
    {
     "name": "stdout",
     "output_type": "stream",
     "text": [
      "2023-06-24 20:08:38,843 INFO sqlalchemy.engine.Engine SELECT user_account.id, user_account.username, user_account.fullname \n",
      "FROM user_account \n",
      "WHERE user_account.username = ? ORDER BY user_account.id\n",
      "2023-06-24 20:08:38,844 INFO sqlalchemy.engine.Engine [cached since 739.1s ago] ('spongebob',)\n",
      "<User('spongebob', 'Spongebob Jones')>\n"
     ]
    }
   ],
   "source": [
    "result = session.execute(query)\n",
    "user_obj = result.scalars().one()\n",
    "print(user_obj)"
   ]
  },
  {
   "cell_type": "code",
   "execution_count": 42,
   "metadata": {},
   "outputs": [
    {
     "name": "stdout",
     "output_type": "stream",
     "text": [
      "2023-06-24 20:14:32,155 INFO sqlalchemy.engine.Engine SELECT user_account.username, user_account.fullname \n",
      "FROM user_account\n",
      "2023-06-24 20:14:32,156 INFO sqlalchemy.engine.Engine [generated in 0.00080s] ()\n",
      "spongebob Spongebob Jones\n",
      "patrick Patrick Star\n",
      "sandy Sandy Cheeks\n"
     ]
    }
   ],
   "source": [
    "query = select(User.username, User.fullname)\n",
    "result = session.execute(query)\n",
    "for row in result:\n",
    "    print(f\"{row.username} {row.fullname}\")"
   ]
  },
  {
   "cell_type": "code",
   "execution_count": 43,
   "metadata": {},
   "outputs": [
    {
     "name": "stdout",
     "output_type": "stream",
     "text": [
      "2023-06-24 20:18:11,077 INFO sqlalchemy.engine.Engine SELECT user_account.id, user_account.username, user_account.fullname, user_account.username AS username__1 \n",
      "FROM user_account\n",
      "2023-06-24 20:18:11,078 INFO sqlalchemy.engine.Engine [generated in 0.00085s] ()\n",
      "1 Spongebob Jones spongebob\n",
      "2 Patrick Star patrick\n",
      "3 Sandy Cheeks sandy\n"
     ]
    }
   ],
   "source": [
    "query = select(User, User.username)\n",
    "result = session.execute(query)\n",
    "for row in result:\n",
    "    print(f\"{row.User.id} {row.User.fullname} {row.username}\")"
   ]
  },
  {
   "cell_type": "code",
   "execution_count": 44,
   "metadata": {},
   "outputs": [
    {
     "name": "stdout",
     "output_type": "stream",
     "text": [
      "2023-06-24 20:18:31,734 INFO sqlalchemy.engine.Engine SELECT user_account.username \n",
      "FROM user_account \n",
      "WHERE user_account.fullname = ?\n",
      "2023-06-24 20:18:31,734 INFO sqlalchemy.engine.Engine [generated in 0.00083s] ('Spongebob Jones',)\n",
      "spongebob\n"
     ]
    }
   ],
   "source": [
    "# filter_by is similar to where clause.\n",
    "for (username, ) in session.execute(\n",
    "    select(User.username).filter_by(\n",
    "        fullname=\"Spongebob Jones\"\n",
    "    )\n",
    "):\n",
    "    print(username)"
   ]
  },
  {
   "cell_type": "code",
   "execution_count": 45,
   "metadata": {},
   "outputs": [
    {
     "name": "stdout",
     "output_type": "stream",
     "text": [
      "2023-06-24 20:23:08,563 INFO sqlalchemy.engine.Engine SELECT user_account.id, user_account.username, user_account.fullname \n",
      "FROM user_account \n",
      "WHERE user_account.username = ? AND (user_account.fullname = ? OR user_account.id < ?)\n",
      "2023-06-24 20:23:08,564 INFO sqlalchemy.engine.Engine [generated in 0.00134s] ('spongebob', 'Spongebob Jones', 5)\n",
      "<User('spongebob', 'Spongebob Jones')>\n"
     ]
    }
   ],
   "source": [
    "from sqlalchemy import or_\n",
    "\n",
    "for (user, ) in (\n",
    "    session.execute(\n",
    "        select(User)\n",
    "        .where(User.username == \"spongebob\")\n",
    "        .where(or_(User.fullname == \"Spongebob Jones\", User.id < 5))\n",
    "    )\n",
    "):\n",
    "    print(user)"
   ]
  },
  {
   "cell_type": "code",
   "execution_count": null,
   "metadata": {},
   "outputs": [],
   "source": []
  }
 ],
 "metadata": {
  "kernelspec": {
   "display_name": "fastapi",
   "language": "python",
   "name": "python3"
  },
  "language_info": {
   "codemirror_mode": {
    "name": "ipython",
    "version": 3
   },
   "file_extension": ".py",
   "mimetype": "text/x-python",
   "name": "python",
   "nbconvert_exporter": "python",
   "pygments_lexer": "ipython3",
   "version": "3.8.0"
  },
  "orig_nbformat": 4
 },
 "nbformat": 4,
 "nbformat_minor": 2
}
