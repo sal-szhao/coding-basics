{
 "cells": [
  {
   "cell_type": "code",
   "execution_count": 3,
   "metadata": {},
   "outputs": [
    {
     "name": "stdout",
     "output_type": "stream",
     "text": [
      "2023-06-23 21:12:49,755 INFO sqlalchemy.engine.Engine BEGIN (implicit)\n",
      "2023-06-23 21:12:49,756 INFO sqlalchemy.engine.Engine PRAGMA main.table_info(\"user_account\")\n",
      "2023-06-23 21:12:49,756 INFO sqlalchemy.engine.Engine [raw sql] ()\n",
      "2023-06-23 21:12:49,757 INFO sqlalchemy.engine.Engine PRAGMA temp.table_info(\"user_account\")\n",
      "2023-06-23 21:12:49,757 INFO sqlalchemy.engine.Engine [raw sql] ()\n",
      "2023-06-23 21:12:49,758 INFO sqlalchemy.engine.Engine \n",
      "CREATE TABLE user_account (\n",
      "\tid INTEGER NOT NULL, \n",
      "\tusername VARCHAR(50), \n",
      "\tfullname VARCHAR(50), \n",
      "\tPRIMARY KEY (id)\n",
      ")\n",
      "\n",
      "\n",
      "2023-06-23 21:12:49,758 INFO sqlalchemy.engine.Engine [no key 0.00030s] ()\n",
      "2023-06-23 21:12:49,759 INFO sqlalchemy.engine.Engine COMMIT\n"
     ]
    }
   ],
   "source": [
    "from sqlalchemy import MetaData, Table, Column, String, Integer\n",
    "\n",
    "metadata = MetaData()\n",
    "user_table = Table(\n",
    "    \"user_account\",\n",
    "    metadata,\n",
    "    Column(\"id\", Integer, primary_key=True),\n",
    "    Column(\"username\", String(50)),\n",
    "    Column(\"fullname\", String(50)),\n",
    ")\n",
    "\n",
    "from sqlalchemy import create_engine\n",
    "\n",
    "engine = create_engine(\"sqlite://\", echo=True)\n",
    "with engine.begin() as conn:\n",
    "    metadata.create_all(conn)"
   ]
  },
  {
   "cell_type": "code",
   "execution_count": 4,
   "metadata": {},
   "outputs": [
    {
     "data": {
      "text/plain": [
       "Column('username', String(length=50), table=<user_account>)"
      ]
     },
     "execution_count": 4,
     "metadata": {},
     "output_type": "execute_result"
    }
   ],
   "source": [
    "user_table.c.username"
   ]
  },
  {
   "cell_type": "code",
   "execution_count": 5,
   "metadata": {},
   "outputs": [
    {
     "data": {
      "text/plain": [
       "<sqlalchemy.sql.elements.BinaryExpression object at 0x7fe98e8f7f10>"
      ]
     },
     "execution_count": 5,
     "metadata": {},
     "output_type": "execute_result"
    }
   ],
   "source": [
    "user_table.c.username == \"spongebob\""
   ]
  },
  {
   "cell_type": "code",
   "execution_count": 11,
   "metadata": {},
   "outputs": [
    {
     "data": {
      "text/plain": [
       "Column('username', String(length=50), table=<user_account>)"
      ]
     },
     "execution_count": 11,
     "metadata": {},
     "output_type": "execute_result"
    }
   ],
   "source": [
    "x = user_table.c.username == \"spongebob\"\n",
    "x.left"
   ]
  },
  {
   "cell_type": "code",
   "execution_count": 8,
   "metadata": {},
   "outputs": [
    {
     "data": {
      "text/plain": [
       "BindParameter('%(140641058080368 username)s', 'spongebob', type_=String(length=50))"
      ]
     },
     "execution_count": 8,
     "metadata": {},
     "output_type": "execute_result"
    }
   ],
   "source": [
    "x.right"
   ]
  },
  {
   "cell_type": "code",
   "execution_count": 9,
   "metadata": {},
   "outputs": [
    {
     "data": {
      "text/plain": [
       "<function _operator.eq(a, b, /)>"
      ]
     },
     "execution_count": 9,
     "metadata": {},
     "output_type": "execute_result"
    }
   ],
   "source": [
    "x.operator"
   ]
  },
  {
   "cell_type": "code",
   "execution_count": 15,
   "metadata": {},
   "outputs": [
    {
     "data": {
      "text/plain": [
       "'user_account.username = :username_1'"
      ]
     },
     "execution_count": 15,
     "metadata": {},
     "output_type": "execute_result"
    }
   ],
   "source": [
    "# username_1 is called a bind parameter.\n",
    "str(user_table.c.username == \"spongebob\")"
   ]
  },
  {
   "cell_type": "code",
   "execution_count": 18,
   "metadata": {},
   "outputs": [
    {
     "name": "stdout",
     "output_type": "stream",
     "text": [
      "user_account.username = :username_1\n",
      "{'username_1': 'spongebob'}\n"
     ]
    }
   ],
   "source": [
    "#Secure concern: values are passed by parameters form.\n",
    "compiled = (user_table.c.username == \"spongebob\").compile()\n",
    "print(compiled.string)\n",
    "print(compiled.params)"
   ]
  },
  {
   "cell_type": "code",
   "execution_count": 23,
   "metadata": {},
   "outputs": [
    {
     "name": "stdout",
     "output_type": "stream",
     "text": [
      "user_account.username = :username_1 OR user_account.username = :username_2\n",
      "user_account.fullname = :fullname_1 AND (user_account.username = :username_1 OR user_account.username = :username_2)\n",
      "user_account.id >= :id_1 AND user_account.fullname BETWEEN :fullname_1 AND :fullname_2 AND user_account.fullname != :fullname_3\n",
      "user_account.username IS NOT NULL AND user_account.fullname IS NULL\n",
      "user_account.id + :id_1\n",
      "user_account.fullname || :fullname_1\n"
     ]
    }
   ],
   "source": [
    "from sqlalchemy import and_, or_\n",
    "\n",
    "# And | Or\n",
    "print(\n",
    "    or_(\n",
    "        user_table.c.username == \"spongebob\",\n",
    "        user_table.c.username == \"patrick\"\n",
    "    )\n",
    ")\n",
    "\n",
    "#Composition.\n",
    "print(\n",
    "    and_(\n",
    "        user_table.c.fullname == \"spongebob squarepants\",\n",
    "        or_(\n",
    "            user_table.c.username == \"spongebob\",\n",
    "            user_table.c.username == \"patrick\",\n",
    "        )\n",
    "    )\n",
    ")\n",
    "\n",
    "# More operators.\n",
    "print(and_(\n",
    "    user_table.c.id >= 5,\n",
    "    user_table.c.fullname.between('m', 'z'),\n",
    "    user_table.c.fullname != 'plankton'\n",
    "))\n",
    "\n",
    "# None will produce NULL.\n",
    "print(and_(\n",
    "    user_table.c.username != None,\n",
    "    user_table.c.fullname == None\n",
    "))\n",
    "\n",
    "# Type sensitive, + can mean string concatenation.\n",
    "print(user_table.c.id + 5)\n",
    "print(user_table.c.fullname + \" Jr.\")\n"
   ]
  },
  {
   "cell_type": "code",
   "execution_count": 25,
   "metadata": {},
   "outputs": [
    {
     "name": "stdout",
     "output_type": "stream",
     "text": [
      "user_account.username IN (__[POSTCOMPILE_username_1])\n",
      "user_account.username IN (:username_1_1, :username_1_2, :username_1_3)\n",
      "user_account.username IN (NULL) AND (1 != 1)\n"
     ]
    }
   ],
   "source": [
    "criteria = user_table.c.username.in_([\"sandy\", \"squidward\", \"spongebob\"])\n",
    "print(criteria)\n",
    "print(criteria.compile(compile_kwargs={'render_postcompile': True}))\n",
    "\n",
    "criteria = user_table.c.username.in_([])\n",
    "print(criteria.compile(compile_kwargs={'render_postcompile': True}))"
   ]
  },
  {
   "cell_type": "code",
   "execution_count": 27,
   "metadata": {},
   "outputs": [
    {
     "name": "stdout",
     "output_type": "stream",
     "text": [
      "2023-06-23 21:40:47,273 INFO sqlalchemy.engine.Engine BEGIN (implicit)\n",
      "2023-06-23 21:40:47,274 INFO sqlalchemy.engine.Engine INSERT INTO user_account (username, fullname) VALUES (?, ?)\n",
      "2023-06-23 21:40:47,274 INFO sqlalchemy.engine.Engine [cached since 10.24s ago] ('spongebob', 'Spongebob Squarepants')\n",
      "2023-06-23 21:40:47,275 INFO sqlalchemy.engine.Engine COMMIT\n"
     ]
    }
   ],
   "source": [
    "insert_stmt = user_table.insert().values(\n",
    "    username=\"spongebob\", fullname=\"Spongebob Squarepants\"\n",
    ")\n",
    "\n",
    "with engine.begin() as conn:\n",
    "    conn.execute(insert_stmt)"
   ]
  },
  {
   "cell_type": "code",
   "execution_count": 28,
   "metadata": {},
   "outputs": [
    {
     "name": "stdout",
     "output_type": "stream",
     "text": [
      "2023-06-23 21:44:57,341 INFO sqlalchemy.engine.Engine BEGIN (implicit)\n",
      "2023-06-23 21:44:57,342 INFO sqlalchemy.engine.Engine INSERT INTO user_account (username, fullname) VALUES (?, ?)\n",
      "2023-06-23 21:44:57,342 INFO sqlalchemy.engine.Engine [generated in 0.00067s] ('sandy', 'Sandy Cheeks')\n",
      "2023-06-23 21:44:57,343 INFO sqlalchemy.engine.Engine INSERT INTO user_account (username, fullname) VALUES (?, ?)\n",
      "2023-06-23 21:44:57,343 INFO sqlalchemy.engine.Engine [generated in 0.00031s] [('patrick', 'Patrick Star'), ('squidward', 'Squidward Tentacles')]\n",
      "2023-06-23 21:44:57,344 INFO sqlalchemy.engine.Engine COMMIT\n"
     ]
    }
   ],
   "source": [
    "# Alternative way of inserting.\n",
    "with engine.begin() as conn:\n",
    "    # Single row.\n",
    "    conn.execute(\n",
    "        user_table.insert(), {\"username\": \"sandy\", \"fullname\": \"Sandy Cheeks\"}\n",
    "    )\n",
    "\n",
    "    # List of dicts will be multiple rows.\n",
    "    conn.execute(\n",
    "        user_table.insert(),\n",
    "        [\n",
    "            {\"username\": \"patrick\", \"fullname\": \"Patrick Star\"},\n",
    "            {\"username\": \"squidward\", \"fullname\": \"Squidward Tentacles\"},\n",
    "        ],\n",
    "    )"
   ]
  },
  {
   "cell_type": "code",
   "execution_count": 29,
   "metadata": {},
   "outputs": [
    {
     "name": "stdout",
     "output_type": "stream",
     "text": [
      "2023-06-24 12:38:23,060 INFO sqlalchemy.engine.Engine BEGIN (implicit)\n",
      "2023-06-24 12:38:23,061 INFO sqlalchemy.engine.Engine SELECT user_account.username, user_account.fullname \n",
      "FROM user_account \n",
      "WHERE user_account.username = ?\n",
      "2023-06-24 12:38:23,061 INFO sqlalchemy.engine.Engine [generated in 0.00161s] ('spongebob',)\n",
      "('spongebob', 'Spongebob Squarepants')\n",
      "2023-06-24 12:38:23,062 INFO sqlalchemy.engine.Engine ROLLBACK\n"
     ]
    }
   ],
   "source": [
    "from sqlalchemy import select\n",
    "\n",
    "with engine.connect() as connection:\n",
    "    select_stmt = (\n",
    "        select(user_table.c.username, user_table.c.fullname).\n",
    "        where(user_table.c.username == \"spongebob\")\n",
    "    )\n",
    "\n",
    "    result = connection.execute(select_stmt)\n",
    "    for row in result:\n",
    "        print(row)"
   ]
  },
  {
   "cell_type": "code",
   "execution_count": 31,
   "metadata": {},
   "outputs": [
    {
     "name": "stdout",
     "output_type": "stream",
     "text": [
      "2023-06-24 12:43:25,526 INFO sqlalchemy.engine.Engine BEGIN (implicit)\n",
      "2023-06-24 12:43:25,526 INFO sqlalchemy.engine.Engine SELECT user_account.id, user_account.username, user_account.fullname \n",
      "FROM user_account\n",
      "2023-06-24 12:43:25,527 INFO sqlalchemy.engine.Engine [cached since 157.8s ago] ()\n",
      "[(1, 'spongebob', 'Spongebob Squarepants'), (2, 'sandy', 'Sandy Cheeks'), (3, 'patrick', 'Patrick Star'), (4, 'squidward', 'Squidward Tentacles')]\n",
      "2023-06-24 12:43:25,527 INFO sqlalchemy.engine.Engine ROLLBACK\n"
     ]
    }
   ],
   "source": [
    "with engine.connect() as connection:\n",
    "    select_stmt = select(user_table)\n",
    "    print(connection.execute(select_stmt).all())"
   ]
  },
  {
   "cell_type": "code",
   "execution_count": 32,
   "metadata": {},
   "outputs": [
    {
     "name": "stdout",
     "output_type": "stream",
     "text": [
      "2023-06-24 12:49:53,981 INFO sqlalchemy.engine.Engine BEGIN (implicit)\n",
      "2023-06-24 12:49:53,982 INFO sqlalchemy.engine.Engine SELECT user_account.id, user_account.username, user_account.fullname \n",
      "FROM user_account \n",
      "WHERE user_account.username = ? OR user_account.username = ? ORDER BY user_account.username\n",
      "2023-06-24 12:49:53,982 INFO sqlalchemy.engine.Engine [generated in 0.00120s] ('spongebob', 'sandy')\n",
      "[(2, 'sandy', 'Sandy Cheeks'), (1, 'spongebob', 'Spongebob Squarepants')]\n",
      "2023-06-24 12:49:53,983 INFO sqlalchemy.engine.Engine ROLLBACK\n"
     ]
    }
   ],
   "source": [
    "with engine.connect() as connection:\n",
    "    select_stmt = select(user_table).where(\n",
    "        or_(\n",
    "            user_table.c.username == \"spongebob\",\n",
    "            user_table.c.username == \"sandy\",\n",
    "        )\n",
    "    ).order_by(user_table.c.username)\n",
    "    print(connection.execute(select_stmt).all())"
   ]
  },
  {
   "cell_type": "code",
   "execution_count": 33,
   "metadata": {},
   "outputs": [
    {
     "name": "stdout",
     "output_type": "stream",
     "text": [
      "2023-06-24 12:52:14,046 INFO sqlalchemy.engine.Engine BEGIN (implicit)\n",
      "2023-06-24 12:52:14,047 INFO sqlalchemy.engine.Engine SELECT user_account.id, user_account.username, user_account.fullname \n",
      "FROM user_account \n",
      "WHERE user_account.username = ? AND user_account.fullname = ? ORDER BY user_account.username\n",
      "2023-06-24 12:52:14,047 INFO sqlalchemy.engine.Engine [generated in 0.00111s] ('spongebob', 'Spongebob Squarepants')\n",
      "[(1, 'spongebob', 'Spongebob Squarepants')]\n",
      "2023-06-24 12:52:14,048 INFO sqlalchemy.engine.Engine ROLLBACK\n"
     ]
    }
   ],
   "source": [
    "with engine.connect() as connection:\n",
    "    select_stmt = (\n",
    "        select(user_table)\n",
    "        .where(user_table.c.username == \"spongebob\")\n",
    "        .where(user_table.c.fullname == \"Spongebob Squarepants\")\n",
    "        .order_by(user_table.c.username)\n",
    "    )\n",
    "    print(connection.execute(select_stmt).all())"
   ]
  },
  {
   "cell_type": "code",
   "execution_count": 34,
   "metadata": {},
   "outputs": [
    {
     "name": "stdout",
     "output_type": "stream",
     "text": [
      "2023-06-24 12:57:19,531 INFO sqlalchemy.engine.Engine BEGIN (implicit)\n",
      "2023-06-24 12:57:19,532 INFO sqlalchemy.engine.Engine SELECT user_account.fullname \n",
      "FROM user_account \n",
      "WHERE user_account.username = ?\n",
      "2023-06-24 12:57:19,532 INFO sqlalchemy.engine.Engine [generated in 0.00117s] ('spongebob',)\n"
     ]
    },
    {
     "data": {
      "text/plain": [
       "('Spongebob Squarepants',)"
      ]
     },
     "execution_count": 34,
     "metadata": {},
     "output_type": "execute_result"
    }
   ],
   "source": [
    "connection = engine.connect()\n",
    "\n",
    "result = connection.execute(\n",
    "    select(user_table.c.fullname).where(user_table.c.username == 'spongebob')\n",
    ")\n",
    "result.one()"
   ]
  },
  {
   "cell_type": "code",
   "execution_count": 35,
   "metadata": {},
   "outputs": [
    {
     "name": "stdout",
     "output_type": "stream",
     "text": [
      "2023-06-24 13:00:53,543 INFO sqlalchemy.engine.Engine SELECT user_account.fullname \n",
      "FROM user_account ORDER BY user_account.username\n",
      "2023-06-24 13:00:53,543 INFO sqlalchemy.engine.Engine [generated in 0.00075s] ()\n"
     ]
    },
    {
     "ename": "MultipleResultsFound",
     "evalue": "Multiple rows were found when exactly one was required",
     "output_type": "error",
     "traceback": [
      "\u001b[0;31m---------------------------------------------------------------------------\u001b[0m",
      "\u001b[0;31mMultipleResultsFound\u001b[0m                      Traceback (most recent call last)",
      "Cell \u001b[0;32mIn[35], line 4\u001b[0m\n\u001b[1;32m      1\u001b[0m result \u001b[39m=\u001b[39m connection\u001b[39m.\u001b[39mexecute(\n\u001b[1;32m      2\u001b[0m     select(user_table\u001b[39m.\u001b[39mc\u001b[39m.\u001b[39mfullname)\u001b[39m.\u001b[39morder_by(user_table\u001b[39m.\u001b[39mc\u001b[39m.\u001b[39musername)\n\u001b[1;32m      3\u001b[0m )\n\u001b[0;32m----> 4\u001b[0m result\u001b[39m.\u001b[39;49mone()\n",
      "File \u001b[0;32m~/anaconda3/envs/fastapi/lib/python3.8/site-packages/sqlalchemy/engine/result.py:1530\u001b[0m, in \u001b[0;36mResult.one\u001b[0;34m(self)\u001b[0m\n\u001b[1;32m   1501\u001b[0m \u001b[39mdef\u001b[39;00m \u001b[39mone\u001b[39m(\u001b[39mself\u001b[39m) \u001b[39m-\u001b[39m\u001b[39m>\u001b[39m Row[_TP]:\n\u001b[1;32m   1502\u001b[0m \u001b[39m    \u001b[39m\u001b[39m\"\"\"Return exactly one row or raise an exception.\u001b[39;00m\n\u001b[1;32m   1503\u001b[0m \n\u001b[1;32m   1504\u001b[0m \u001b[39m    Raises :class:`.NoResultFound` if the result returns no\u001b[39;00m\n\u001b[0;32m   (...)\u001b[0m\n\u001b[1;32m   1528\u001b[0m \n\u001b[1;32m   1529\u001b[0m \u001b[39m    \"\"\"\u001b[39;00m\n\u001b[0;32m-> 1530\u001b[0m     \u001b[39mreturn\u001b[39;00m \u001b[39mself\u001b[39;49m\u001b[39m.\u001b[39;49m_only_one_row(\n\u001b[1;32m   1531\u001b[0m         raise_for_second_row\u001b[39m=\u001b[39;49m\u001b[39mTrue\u001b[39;49;00m, raise_for_none\u001b[39m=\u001b[39;49m\u001b[39mTrue\u001b[39;49;00m, scalar\u001b[39m=\u001b[39;49m\u001b[39mFalse\u001b[39;49;00m\n\u001b[1;32m   1532\u001b[0m     )\n",
      "File \u001b[0;32m~/anaconda3/envs/fastapi/lib/python3.8/site-packages/sqlalchemy/engine/result.py:813\u001b[0m, in \u001b[0;36mResultInternal._only_one_row\u001b[0;34m(self, raise_for_second_row, raise_for_none, scalar)\u001b[0m\n\u001b[1;32m    811\u001b[0m     \u001b[39mif\u001b[39;00m next_row \u001b[39mis\u001b[39;00m \u001b[39mnot\u001b[39;00m _NO_ROW:\n\u001b[1;32m    812\u001b[0m         \u001b[39mself\u001b[39m\u001b[39m.\u001b[39m_soft_close(hard\u001b[39m=\u001b[39m\u001b[39mTrue\u001b[39;00m)\n\u001b[0;32m--> 813\u001b[0m         \u001b[39mraise\u001b[39;00m exc\u001b[39m.\u001b[39mMultipleResultsFound(\n\u001b[1;32m    814\u001b[0m             \u001b[39m\"\u001b[39m\u001b[39mMultiple rows were found when exactly one was required\u001b[39m\u001b[39m\"\u001b[39m\n\u001b[1;32m    815\u001b[0m             \u001b[39mif\u001b[39;00m raise_for_none\n\u001b[1;32m    816\u001b[0m             \u001b[39melse\u001b[39;00m \u001b[39m\"\u001b[39m\u001b[39mMultiple rows were found when one or none \u001b[39m\u001b[39m\"\u001b[39m\n\u001b[1;32m    817\u001b[0m             \u001b[39m\"\u001b[39m\u001b[39mwas required\u001b[39m\u001b[39m\"\u001b[39m\n\u001b[1;32m    818\u001b[0m         )\n\u001b[1;32m    819\u001b[0m \u001b[39melse\u001b[39;00m:\n\u001b[1;32m    820\u001b[0m     next_row \u001b[39m=\u001b[39m _NO_ROW\n",
      "\u001b[0;31mMultipleResultsFound\u001b[0m: Multiple rows were found when exactly one was required"
     ]
    }
   ],
   "source": [
    "# If results have more than one row, will raise error. \n",
    "result = connection.execute(\n",
    "    select(user_table.c.fullname).order_by(user_table.c.username)\n",
    ")\n",
    "result.one()"
   ]
  },
  {
   "cell_type": "code",
   "execution_count": 36,
   "metadata": {},
   "outputs": [
    {
     "name": "stdout",
     "output_type": "stream",
     "text": [
      "2023-06-24 13:03:38,324 INFO sqlalchemy.engine.Engine SELECT user_account.id, user_account.username, user_account.fullname \n",
      "FROM user_account \n",
      "WHERE user_account.username = ?\n",
      "2023-06-24 13:03:38,325 INFO sqlalchemy.engine.Engine [generated in 0.00086s] ('nonexistent',)\n"
     ]
    }
   ],
   "source": [
    "result = connection.execute(\n",
    "    select(user_table).where(user_table.c.username == 'nonexistent')\n",
    ")\n",
    "result.one_or_none()"
   ]
  },
  {
   "cell_type": "code",
   "execution_count": 39,
   "metadata": {},
   "outputs": [
    {
     "name": "stdout",
     "output_type": "stream",
     "text": [
      "2023-06-24 13:12:10,261 INFO sqlalchemy.engine.Engine SELECT user_account.id, user_account.username, user_account.fullname \n",
      "FROM user_account ORDER BY user_account.username\n",
      "2023-06-24 13:12:10,262 INFO sqlalchemy.engine.Engine [cached since 176.3s ago] ()\n",
      "Patrick Star patrick\n",
      "Sandy Cheeks sandy\n",
      "Spongebob Squarepants spongebob\n",
      "Squidward Tentacles squidward\n",
      "2023-06-24 13:12:10,263 INFO sqlalchemy.engine.Engine SELECT user_account.id, user_account.username, user_account.fullname \n",
      "FROM user_account ORDER BY user_account.username\n",
      "2023-06-24 13:12:10,263 INFO sqlalchemy.engine.Engine [cached since 176.3s ago] ()\n",
      "Patrick Star\n",
      "Sandy Cheeks\n",
      "Spongebob Squarepants\n",
      "Squidward Tentacles\n"
     ]
    }
   ],
   "source": [
    "# Results can do column slicing.\n",
    "result = connection.execute(\n",
    "    select(user_table).order_by(user_table.c.username)\n",
    ")\n",
    "\n",
    "for fullname, username in result.columns(\"fullname\", \"username\"):\n",
    "    print(f\"{fullname} {username}\")\n",
    "\n",
    "# Single column can be delivered without using rows.\n",
    "result = connection.execute(\n",
    "    select(user_table).order_by(user_table.c.username)\n",
    ")\n",
    "\n",
    "for fullname in result.scalars(\"fullname\"):\n",
    "    print(fullname)"
   ]
  },
  {
   "cell_type": "code",
   "execution_count": 40,
   "metadata": {},
   "outputs": [
    {
     "name": "stdout",
     "output_type": "stream",
     "text": [
      "2023-06-24 13:27:04,755 INFO sqlalchemy.engine.Engine BEGIN (implicit)\n",
      "2023-06-24 13:27:04,757 INFO sqlalchemy.engine.Engine UPDATE user_account SET fullname=? WHERE user_account.username = ?\n",
      "2023-06-24 13:27:04,758 INFO sqlalchemy.engine.Engine [generated in 0.00062s] ('Patrick Star', 'patrick')\n",
      "2023-06-24 13:27:04,758 INFO sqlalchemy.engine.Engine COMMIT\n",
      "2023-06-24 13:27:04,759 INFO sqlalchemy.engine.Engine BEGIN (implicit)\n",
      "2023-06-24 13:27:04,759 INFO sqlalchemy.engine.Engine UPDATE user_account SET fullname=? WHERE user_account.username = ?\n",
      "2023-06-24 13:27:04,760 INFO sqlalchemy.engine.Engine [generated in 0.00041s] ('Patrick Star', 'patrick')\n",
      "2023-06-24 13:27:04,760 INFO sqlalchemy.engine.Engine COMMIT\n"
     ]
    }
   ],
   "source": [
    "# Update operations like insert operations.\n",
    "with engine.begin() as connection:\n",
    "    update_stmt = (\n",
    "        user_table.update()\n",
    "        .values(fullname=\"Patrick Star\")\n",
    "        .where(user_table.c.username == \"patrick\")\n",
    "    )\n",
    "\n",
    "    result = connection.execute(update_stmt)\n",
    "\n",
    "# Given parameters version. \n",
    "with engine.begin() as connection:\n",
    "    update_stmt = (\n",
    "        user_table.update()\n",
    "        .where(user_table.c.username == \"patrick\")\n",
    "    )\n",
    "\n",
    "    result = connection.execute(update_stmt, {\"fullname\": \"Patrick Star\"})"
   ]
  },
  {
   "cell_type": "code",
   "execution_count": 41,
   "metadata": {},
   "outputs": [
    {
     "name": "stdout",
     "output_type": "stream",
     "text": [
      "2023-06-24 13:33:59,459 INFO sqlalchemy.engine.Engine BEGIN (implicit)\n",
      "2023-06-24 13:33:59,462 INFO sqlalchemy.engine.Engine UPDATE user_account SET fullname=(user_account.username || ? || user_account.fullname)\n",
      "2023-06-24 13:33:59,463 INFO sqlalchemy.engine.Engine [generated in 0.00089s] (' ',)\n",
      "2023-06-24 13:33:59,464 INFO sqlalchemy.engine.Engine COMMIT\n"
     ]
    }
   ],
   "source": [
    "# Can accommodate SQL expressions.\n",
    "with engine.begin() as connection:\n",
    "    update_stmt = (\n",
    "        user_table.update().\n",
    "        values(\n",
    "            fullname=user_table.c.username + \" \" + user_table.c.fullname\n",
    "        )\n",
    "    )\n",
    "\n",
    "    result = connection.execute(update_stmt)"
   ]
  },
  {
   "cell_type": "code",
   "execution_count": 42,
   "metadata": {},
   "outputs": [
    {
     "name": "stdout",
     "output_type": "stream",
     "text": [
      "2023-06-24 13:37:25,593 INFO sqlalchemy.engine.Engine BEGIN (implicit)\n",
      "2023-06-24 13:37:25,595 INFO sqlalchemy.engine.Engine DELETE FROM user_account WHERE user_account.username = ?\n",
      "2023-06-24 13:37:25,595 INFO sqlalchemy.engine.Engine [generated in 0.00056s] ('patrick',)\n",
      "2023-06-24 13:37:25,596 INFO sqlalchemy.engine.Engine COMMIT\n"
     ]
    }
   ],
   "source": [
    "# Deletion.\n",
    "with engine.begin() as connection:\n",
    "    delete_stmt = user_table.delete().where(user_table.c.username == \"patrick\")\n",
    "\n",
    "    result = connection.execute(delete_stmt)"
   ]
  },
  {
   "cell_type": "code",
   "execution_count": null,
   "metadata": {},
   "outputs": [],
   "source": []
  }
 ],
 "metadata": {
  "kernelspec": {
   "display_name": "fastapi",
   "language": "python",
   "name": "python3"
  },
  "language_info": {
   "codemirror_mode": {
    "name": "ipython",
    "version": 3
   },
   "file_extension": ".py",
   "mimetype": "text/x-python",
   "name": "python",
   "nbconvert_exporter": "python",
   "pygments_lexer": "ipython3",
   "version": "3.8.0"
  },
  "orig_nbformat": 4
 },
 "nbformat": 4,
 "nbformat_minor": 2
}
