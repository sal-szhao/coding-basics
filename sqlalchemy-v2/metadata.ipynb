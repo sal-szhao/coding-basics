{
 "cells": [
  {
   "cell_type": "code",
   "execution_count": 3,
   "metadata": {},
   "outputs": [],
   "source": [
    "from sqlalchemy import MetaData\n",
    "from sqlalchemy import Table, Column\n",
    "from sqlalchemy import Integer, String\n",
    "from sqlalchemy import select"
   ]
  },
  {
   "cell_type": "code",
   "execution_count": 4,
   "metadata": {},
   "outputs": [],
   "source": [
    "metadata = MetaData()\n",
    "user_table = Table(\n",
    "    \"user_account\",\n",
    "    metadata,\n",
    "    Column(\"id\", Integer, primary_key=True),\n",
    "    Column(\"username\", String(50), nullable=False),\n",
    "    Column(\"fullname\", String(255)),\n",
    ")"
   ]
  },
  {
   "cell_type": "code",
   "execution_count": 5,
   "metadata": {},
   "outputs": [
    {
     "data": {
      "text/plain": [
       "'user_account'"
      ]
     },
     "execution_count": 5,
     "metadata": {},
     "output_type": "execute_result"
    }
   ],
   "source": [
    "user_table.name"
   ]
  },
  {
   "cell_type": "code",
   "execution_count": 6,
   "metadata": {},
   "outputs": [
    {
     "data": {
      "text/plain": [
       "Column('username', String(length=50), table=<user_account>, nullable=False)"
      ]
     },
     "execution_count": 6,
     "metadata": {},
     "output_type": "execute_result"
    }
   ],
   "source": [
    "user_table.c.username"
   ]
  },
  {
   "cell_type": "code",
   "execution_count": 10,
   "metadata": {},
   "outputs": [
    {
     "name": "stdout",
     "output_type": "stream",
     "text": [
      "ReadOnlyColumnCollection(user_account.id, user_account.username, user_account.fullname)\n"
     ]
    }
   ],
   "source": [
    "print(user_table.c)"
   ]
  },
  {
   "cell_type": "code",
   "execution_count": 11,
   "metadata": {},
   "outputs": [
    {
     "name": "stdout",
     "output_type": "stream",
     "text": [
      "username\n",
      "VARCHAR(50)\n"
     ]
    }
   ],
   "source": [
    "print(user_table.c.username.name)\n",
    "print(user_table.c.username.type)"
   ]
  },
  {
   "cell_type": "code",
   "execution_count": 12,
   "metadata": {},
   "outputs": [
    {
     "data": {
      "text/plain": [
       "PrimaryKeyConstraint(Column('id', Integer(), table=<user_account>, primary_key=True, nullable=False))"
      ]
     },
     "execution_count": 12,
     "metadata": {},
     "output_type": "execute_result"
    }
   ],
   "source": [
    "user_table.primary_key"
   ]
  },
  {
   "cell_type": "code",
   "execution_count": 15,
   "metadata": {},
   "outputs": [
    {
     "name": "stdout",
     "output_type": "stream",
     "text": [
      "SELECT user_account.id, user_account.username, user_account.fullname \n",
      "FROM user_account\n"
     ]
    }
   ],
   "source": [
    "# Table object is the core of SQL expression.\n",
    "print(select(user_table))"
   ]
  },
  {
   "cell_type": "code",
   "execution_count": 18,
   "metadata": {},
   "outputs": [
    {
     "name": "stdout",
     "output_type": "stream",
     "text": [
      "2023-06-23 20:38:09,640 INFO sqlalchemy.engine.Engine BEGIN (implicit)\n",
      "2023-06-23 20:38:09,641 INFO sqlalchemy.engine.Engine PRAGMA main.table_info(\"user_account\")\n",
      "2023-06-23 20:38:09,641 INFO sqlalchemy.engine.Engine [raw sql] ()\n",
      "2023-06-23 20:38:09,642 INFO sqlalchemy.engine.Engine PRAGMA temp.table_info(\"user_account\")\n",
      "2023-06-23 20:38:09,643 INFO sqlalchemy.engine.Engine [raw sql] ()\n",
      "2023-06-23 20:38:09,643 INFO sqlalchemy.engine.Engine \n",
      "CREATE TABLE user_account (\n",
      "\tid INTEGER NOT NULL, \n",
      "\tusername VARCHAR(50) NOT NULL, \n",
      "\tfullname VARCHAR(255), \n",
      "\tPRIMARY KEY (id)\n",
      ")\n",
      "\n",
      "\n",
      "2023-06-23 20:38:09,644 INFO sqlalchemy.engine.Engine [no key 0.00037s] ()\n",
      "2023-06-23 20:38:09,644 INFO sqlalchemy.engine.Engine COMMIT\n"
     ]
    }
   ],
   "source": [
    "from sqlalchemy import create_engine\n",
    "\n",
    "# Create a database in memory.\n",
    "engine = create_engine(\"sqlite://\", future=True, echo=True)\n",
    "\n",
    "with engine.begin() as conn:\n",
    "    metadata.create_all(conn)"
   ]
  },
  {
   "cell_type": "code",
   "execution_count": 19,
   "metadata": {},
   "outputs": [
    {
     "name": "stdout",
     "output_type": "stream",
     "text": [
      "2023-06-23 20:39:18,732 INFO sqlalchemy.engine.Engine BEGIN (implicit)\n",
      "2023-06-23 20:39:18,733 INFO sqlalchemy.engine.Engine \n",
      "CREATE TABLE fancy (\n",
      "\t\"key\" VARCHAR(50) NOT NULL, \n",
      "\ttimestamp DATETIME, \n",
      "\tamount NUMERIC(10, 2), \n",
      "\ttype VARCHAR(1), \n",
      "\tPRIMARY KEY (\"key\")\n",
      ")\n",
      "\n",
      "\n",
      "2023-06-23 20:39:18,734 INFO sqlalchemy.engine.Engine [no key 0.00037s] ()\n",
      "2023-06-23 20:39:18,734 INFO sqlalchemy.engine.Engine COMMIT\n"
     ]
    }
   ],
   "source": [
    "from sqlalchemy import String, Numeric, DateTime, Enum\n",
    "\n",
    "fancy_table = Table(\n",
    "    \"fancy\",\n",
    "    metadata,\n",
    "    Column(\"key\", String(50), primary_key=True),\n",
    "    Column(\"timestamp\", DateTime),\n",
    "    Column(\"amount\", Numeric(10, 2)),\n",
    "    Column(\"type\", Enum(\"a\", \"b\", \"c\")),\n",
    ")\n",
    "\n",
    "with engine.begin() as conn:\n",
    "    fancy_table.create(conn)"
   ]
  },
  {
   "cell_type": "code",
   "execution_count": 22,
   "metadata": {},
   "outputs": [
    {
     "name": "stdout",
     "output_type": "stream",
     "text": [
      "dict_keys(['user_account', 'fancy'])\n"
     ]
    },
    {
     "data": {
      "text/plain": [
       "Table('user_account', MetaData(), Column('id', Integer(), table=<user_account>, primary_key=True, nullable=False), Column('username', String(length=50), table=<user_account>, nullable=False), Column('fullname', String(length=255), table=<user_account>), schema=None)"
      ]
     },
     "execution_count": 22,
     "metadata": {},
     "output_type": "execute_result"
    }
   ],
   "source": [
    "print(metadata.tables.keys())\n",
    "metadata.tables['user_account']"
   ]
  },
  {
   "cell_type": "code",
   "execution_count": 23,
   "metadata": {},
   "outputs": [
    {
     "name": "stdout",
     "output_type": "stream",
     "text": [
      "2023-06-23 20:43:36,209 INFO sqlalchemy.engine.Engine BEGIN (implicit)\n",
      "2023-06-23 20:43:36,210 INFO sqlalchemy.engine.Engine \n",
      "CREATE TABLE email_address (\n",
      "\tid INTEGER NOT NULL, \n",
      "\temail_address VARCHAR(100) NOT NULL, \n",
      "\tuser_id INTEGER NOT NULL, \n",
      "\tPRIMARY KEY (id), \n",
      "\tFOREIGN KEY(user_id) REFERENCES user_account (id)\n",
      ")\n",
      "\n",
      "\n",
      "2023-06-23 20:43:36,211 INFO sqlalchemy.engine.Engine [no key 0.00047s] ()\n",
      "2023-06-23 20:43:36,212 INFO sqlalchemy.engine.Engine COMMIT\n"
     ]
    }
   ],
   "source": [
    "from sqlalchemy import ForeignKey\n",
    "\n",
    "addresses_table = Table(\n",
    "    \"email_address\",\n",
    "    metadata,\n",
    "    Column(\"id\", Integer, primary_key=True),\n",
    "    Column(\"email_address\", String(100), nullable=False),\n",
    "    Column(\"user_id\", ForeignKey(\"user_account.id\"), nullable=False),\n",
    ")\n",
    "\n",
    "with engine.begin() as conn:\n",
    "    addresses_table.create(conn)"
   ]
  },
  {
   "cell_type": "code",
   "execution_count": 29,
   "metadata": {},
   "outputs": [
    {
     "name": "stdout",
     "output_type": "stream",
     "text": [
      "2023-06-23 20:52:32,129 INFO sqlalchemy.engine.Engine BEGIN (implicit)\n",
      "2023-06-23 20:52:32,130 INFO sqlalchemy.engine.Engine PRAGMA main.table_info(\"user_account\")\n",
      "2023-06-23 20:52:32,130 INFO sqlalchemy.engine.Engine [raw sql] ()\n",
      "2023-06-23 20:52:32,131 INFO sqlalchemy.engine.Engine PRAGMA main.table_info(\"fancy\")\n",
      "2023-06-23 20:52:32,132 INFO sqlalchemy.engine.Engine [raw sql] ()\n",
      "2023-06-23 20:52:32,133 INFO sqlalchemy.engine.Engine PRAGMA main.table_info(\"email_address\")\n",
      "2023-06-23 20:52:32,133 INFO sqlalchemy.engine.Engine [raw sql] ()\n",
      "2023-06-23 20:52:32,133 INFO sqlalchemy.engine.Engine PRAGMA main.table_info(\"story\")\n",
      "2023-06-23 20:52:32,134 INFO sqlalchemy.engine.Engine [raw sql] ()\n",
      "2023-06-23 20:52:32,134 INFO sqlalchemy.engine.Engine PRAGMA temp.table_info(\"story\")\n",
      "2023-06-23 20:52:32,135 INFO sqlalchemy.engine.Engine [raw sql] ()\n",
      "2023-06-23 20:52:32,136 INFO sqlalchemy.engine.Engine PRAGMA main.table_info(\"published\")\n",
      "2023-06-23 20:52:32,136 INFO sqlalchemy.engine.Engine [raw sql] ()\n",
      "2023-06-23 20:52:32,136 INFO sqlalchemy.engine.Engine PRAGMA temp.table_info(\"published\")\n",
      "2023-06-23 20:52:32,137 INFO sqlalchemy.engine.Engine [raw sql] ()\n",
      "2023-06-23 20:52:32,138 INFO sqlalchemy.engine.Engine \n",
      "CREATE TABLE story (\n",
      "\tstory_id INTEGER NOT NULL, \n",
      "\tversion_id INTEGER NOT NULL, \n",
      "\theadline VARCHAR(100) NOT NULL, \n",
      "\tbody TEXT, \n",
      "\tPRIMARY KEY (story_id, version_id)\n",
      ")\n",
      "\n",
      "\n",
      "2023-06-23 20:52:32,138 INFO sqlalchemy.engine.Engine [no key 0.00049s] ()\n",
      "2023-06-23 20:52:32,139 INFO sqlalchemy.engine.Engine \n",
      "CREATE TABLE published (\n",
      "\tpub_id INTEGER NOT NULL, \n",
      "\tpub_timestamp DATETIME NOT NULL, \n",
      "\tstory_id INTEGER, \n",
      "\tversion_id INTEGER, \n",
      "\tPRIMARY KEY (pub_id), \n",
      "\tFOREIGN KEY(story_id, version_id) REFERENCES story (story_id, version_id)\n",
      ")\n",
      "\n",
      "\n",
      "2023-06-23 20:52:32,139 INFO sqlalchemy.engine.Engine [no key 0.00028s] ()\n",
      "2023-06-23 20:52:32,140 INFO sqlalchemy.engine.Engine COMMIT\n"
     ]
    }
   ],
   "source": [
    "from sqlalchemy import ForeignKeyConstraint\n",
    "from sqlalchemy import Text\n",
    "\n",
    "story_table = Table(\n",
    "    \"story\",\n",
    "    metadata,\n",
    "    Column(\"story_id\", Integer, primary_key=True),\n",
    "    Column(\"version_id\", Integer, primary_key=True),\n",
    "    Column(\"headline\", String(100), nullable=False),\n",
    "    Column(\"body\", Text),\n",
    ")\n",
    "\n",
    "published_table = Table(\n",
    "    \"published\",\n",
    "    metadata,\n",
    "    Column(\"pub_id\", Integer, primary_key=True),\n",
    "    Column(\"pub_timestamp\", DateTime, nullable=False),\n",
    "    Column(\"story_id\", Integer),\n",
    "    Column(\"version_id\", Integer),\n",
    "    ForeignKeyConstraint(\n",
    "        [\"story_id\", \"version_id\"], [\"story.story_id\", \"story.version_id\"]\n",
    "    ),\n",
    ")\n",
    "\n",
    "with engine.begin() as conn:\n",
    "    metadata.create_all(conn)"
   ]
  },
  {
   "cell_type": "code",
   "execution_count": 24,
   "metadata": {},
   "outputs": [
    {
     "name": "stdout",
     "output_type": "stream",
     "text": [
      "2023-06-23 20:47:14,315 INFO sqlalchemy.engine.Engine BEGIN (implicit)\n",
      "2023-06-23 20:47:14,316 INFO sqlalchemy.engine.Engine PRAGMA main.table_xinfo(\"user_account\")\n",
      "2023-06-23 20:47:14,316 INFO sqlalchemy.engine.Engine [raw sql] ()\n",
      "2023-06-23 20:47:14,317 INFO sqlalchemy.engine.Engine SELECT sql FROM  (SELECT * FROM sqlite_master UNION ALL   SELECT * FROM sqlite_temp_master) WHERE name = ? AND type in ('table', 'view')\n",
      "2023-06-23 20:47:14,317 INFO sqlalchemy.engine.Engine [raw sql] ('user_account',)\n",
      "2023-06-23 20:47:14,318 INFO sqlalchemy.engine.Engine PRAGMA main.foreign_key_list(\"user_account\")\n",
      "2023-06-23 20:47:14,319 INFO sqlalchemy.engine.Engine [raw sql] ()\n",
      "2023-06-23 20:47:14,319 INFO sqlalchemy.engine.Engine PRAGMA temp.foreign_key_list(\"user_account\")\n",
      "2023-06-23 20:47:14,320 INFO sqlalchemy.engine.Engine [raw sql] ()\n",
      "2023-06-23 20:47:14,320 INFO sqlalchemy.engine.Engine SELECT sql FROM  (SELECT * FROM sqlite_master UNION ALL   SELECT * FROM sqlite_temp_master) WHERE name = ? AND type in ('table', 'view')\n",
      "2023-06-23 20:47:14,320 INFO sqlalchemy.engine.Engine [raw sql] ('user_account',)\n",
      "2023-06-23 20:47:14,321 INFO sqlalchemy.engine.Engine PRAGMA main.index_list(\"user_account\")\n",
      "2023-06-23 20:47:14,322 INFO sqlalchemy.engine.Engine [raw sql] ()\n",
      "2023-06-23 20:47:14,322 INFO sqlalchemy.engine.Engine PRAGMA temp.index_list(\"user_account\")\n",
      "2023-06-23 20:47:14,323 INFO sqlalchemy.engine.Engine [raw sql] ()\n",
      "2023-06-23 20:47:14,323 INFO sqlalchemy.engine.Engine PRAGMA main.table_info(\"user_account\")\n",
      "2023-06-23 20:47:14,324 INFO sqlalchemy.engine.Engine [raw sql] ()\n",
      "2023-06-23 20:47:14,325 INFO sqlalchemy.engine.Engine PRAGMA main.index_list(\"user_account\")\n",
      "2023-06-23 20:47:14,325 INFO sqlalchemy.engine.Engine [raw sql] ()\n",
      "2023-06-23 20:47:14,325 INFO sqlalchemy.engine.Engine PRAGMA temp.index_list(\"user_account\")\n",
      "2023-06-23 20:47:14,326 INFO sqlalchemy.engine.Engine [raw sql] ()\n",
      "2023-06-23 20:47:14,326 INFO sqlalchemy.engine.Engine PRAGMA main.table_info(\"user_account\")\n",
      "2023-06-23 20:47:14,326 INFO sqlalchemy.engine.Engine [raw sql] ()\n",
      "2023-06-23 20:47:14,327 INFO sqlalchemy.engine.Engine SELECT sql FROM  (SELECT * FROM sqlite_master UNION ALL   SELECT * FROM sqlite_temp_master) WHERE name = ? AND type in ('table', 'view')\n",
      "2023-06-23 20:47:14,328 INFO sqlalchemy.engine.Engine [raw sql] ('user_account',)\n",
      "2023-06-23 20:47:14,329 INFO sqlalchemy.engine.Engine ROLLBACK\n"
     ]
    }
   ],
   "source": [
    "# Reflections (loading tables by reading from the database).\n",
    "metadata2 = MetaData()\n",
    "with engine.connect() as conn:\n",
    "    user_reflected = Table(\"user_account\", metadata2, autoload_with=conn)"
   ]
  },
  {
   "cell_type": "code",
   "execution_count": 28,
   "metadata": {},
   "outputs": [
    {
     "name": "stdout",
     "output_type": "stream",
     "text": [
      "ReadOnlyColumnCollection(user_account.id, user_account.username, user_account.fullname)\n",
      "PrimaryKeyConstraint(Column('id', INTEGER(), table=<user_account>, primary_key=True, nullable=False))\n",
      "SELECT user_account.id, user_account.username, user_account.fullname \n",
      "FROM user_account\n",
      "dict_keys(['user_account'])\n"
     ]
    }
   ],
   "source": [
    "print(user_reflected.c)\n",
    "print(user_reflected.primary_key)\n",
    "print(select(user_reflected))\n",
    "print(metadata2.tables.keys())"
   ]
  },
  {
   "cell_type": "code",
   "execution_count": 30,
   "metadata": {},
   "outputs": [],
   "source": [
    "# Inspect information about tables at a more specific level.\n",
    "from sqlalchemy import inspect\n",
    "\n",
    "inspector = inspect(engine)"
   ]
  },
  {
   "cell_type": "code",
   "execution_count": 32,
   "metadata": {},
   "outputs": [
    {
     "name": "stdout",
     "output_type": "stream",
     "text": [
      "2023-06-23 20:53:52,107 INFO sqlalchemy.engine.Engine BEGIN (implicit)\n",
      "2023-06-23 20:53:52,108 INFO sqlalchemy.engine.Engine SELECT name FROM sqlite_master WHERE type='table' AND name NOT LIKE 'sqlite~_%' ESCAPE '~' ORDER BY name\n",
      "2023-06-23 20:53:52,108 INFO sqlalchemy.engine.Engine [raw sql] ()\n",
      "2023-06-23 20:53:52,109 INFO sqlalchemy.engine.Engine ROLLBACK\n"
     ]
    },
    {
     "data": {
      "text/plain": [
       "['email_address', 'fancy', 'published', 'story', 'user_account']"
      ]
     },
     "execution_count": 32,
     "metadata": {},
     "output_type": "execute_result"
    }
   ],
   "source": [
    "inspector.get_table_names()"
   ]
  },
  {
   "cell_type": "code",
   "execution_count": 34,
   "metadata": {},
   "outputs": [
    {
     "name": "stdout",
     "output_type": "stream",
     "text": [
      "2023-06-23 20:54:20,568 INFO sqlalchemy.engine.Engine BEGIN (implicit)\n",
      "2023-06-23 20:54:20,568 INFO sqlalchemy.engine.Engine PRAGMA main.table_xinfo(\"email_address\")\n",
      "2023-06-23 20:54:20,569 INFO sqlalchemy.engine.Engine [raw sql] ()\n",
      "2023-06-23 20:54:20,569 INFO sqlalchemy.engine.Engine ROLLBACK\n"
     ]
    },
    {
     "data": {
      "text/plain": [
       "[{'name': 'id',\n",
       "  'type': INTEGER(),\n",
       "  'nullable': False,\n",
       "  'default': None,\n",
       "  'primary_key': 1},\n",
       " {'name': 'email_address',\n",
       "  'type': VARCHAR(length=100),\n",
       "  'nullable': False,\n",
       "  'default': None,\n",
       "  'primary_key': 0},\n",
       " {'name': 'user_id',\n",
       "  'type': INTEGER(),\n",
       "  'nullable': False,\n",
       "  'default': None,\n",
       "  'primary_key': 0}]"
      ]
     },
     "execution_count": 34,
     "metadata": {},
     "output_type": "execute_result"
    }
   ],
   "source": [
    "inspector.get_columns(\"email_address\")"
   ]
  },
  {
   "cell_type": "code",
   "execution_count": 35,
   "metadata": {},
   "outputs": [
    {
     "name": "stdout",
     "output_type": "stream",
     "text": [
      "2023-06-23 20:56:00,797 INFO sqlalchemy.engine.Engine BEGIN (implicit)\n",
      "2023-06-23 20:56:00,798 INFO sqlalchemy.engine.Engine PRAGMA main.foreign_key_list(\"email_address\")\n",
      "2023-06-23 20:56:00,798 INFO sqlalchemy.engine.Engine [raw sql] ()\n",
      "2023-06-23 20:56:00,799 INFO sqlalchemy.engine.Engine SELECT sql FROM  (SELECT * FROM sqlite_master UNION ALL   SELECT * FROM sqlite_temp_master) WHERE name = ? AND type in ('table', 'view')\n",
      "2023-06-23 20:56:00,799 INFO sqlalchemy.engine.Engine [raw sql] ('email_address',)\n",
      "2023-06-23 20:56:00,800 INFO sqlalchemy.engine.Engine ROLLBACK\n"
     ]
    },
    {
     "data": {
      "text/plain": [
       "[{'name': None,\n",
       "  'constrained_columns': ['user_id'],\n",
       "  'referred_schema': None,\n",
       "  'referred_table': 'user_account',\n",
       "  'referred_columns': ['id'],\n",
       "  'options': {}}]"
      ]
     },
     "execution_count": 35,
     "metadata": {},
     "output_type": "execute_result"
    }
   ],
   "source": [
    "inspector.get_foreign_keys(\"email_address\")"
   ]
  },
  {
   "cell_type": "code",
   "execution_count": 41,
   "metadata": {},
   "outputs": [
    {
     "name": "stdout",
     "output_type": "stream",
     "text": [
      "2023-06-23 21:05:10,987 INFO sqlalchemy.engine.Engine BEGIN (implicit)\n",
      "2023-06-23 21:05:10,988 INFO sqlalchemy.engine.Engine SELECT name FROM sqlite_master WHERE type='table' AND name NOT LIKE 'sqlite~_%' ESCAPE '~' ORDER BY name\n",
      "2023-06-23 21:05:10,988 INFO sqlalchemy.engine.Engine [raw sql] ()\n",
      "2023-06-23 21:05:10,989 INFO sqlalchemy.engine.Engine SELECT name FROM sqlite_temp_master WHERE type='table' AND name NOT LIKE 'sqlite~_%' ESCAPE '~' ORDER BY name\n",
      "2023-06-23 21:05:10,990 INFO sqlalchemy.engine.Engine [raw sql] ()\n",
      "2023-06-23 21:05:10,990 INFO sqlalchemy.engine.Engine PRAGMA main.table_xinfo(\"email_address\")\n",
      "2023-06-23 21:05:10,991 INFO sqlalchemy.engine.Engine [raw sql] ()\n",
      "2023-06-23 21:05:10,991 INFO sqlalchemy.engine.Engine PRAGMA main.table_xinfo(\"fancy\")\n",
      "2023-06-23 21:05:10,992 INFO sqlalchemy.engine.Engine [raw sql] ()\n",
      "2023-06-23 21:05:10,992 INFO sqlalchemy.engine.Engine PRAGMA main.table_xinfo(\"published\")\n",
      "2023-06-23 21:05:10,992 INFO sqlalchemy.engine.Engine [raw sql] ()\n",
      "2023-06-23 21:05:10,993 INFO sqlalchemy.engine.Engine PRAGMA main.table_xinfo(\"story\")\n",
      "2023-06-23 21:05:10,993 INFO sqlalchemy.engine.Engine [raw sql] ()\n",
      "2023-06-23 21:05:10,994 INFO sqlalchemy.engine.Engine PRAGMA main.table_xinfo(\"user_account\")\n",
      "2023-06-23 21:05:10,994 INFO sqlalchemy.engine.Engine [raw sql] ()\n",
      "2023-06-23 21:05:10,995 INFO sqlalchemy.engine.Engine SELECT sql FROM  (SELECT * FROM sqlite_master UNION ALL   SELECT * FROM sqlite_temp_master) WHERE name = ? AND type in ('table', 'view')\n",
      "2023-06-23 21:05:10,996 INFO sqlalchemy.engine.Engine [raw sql] ('email_address',)\n",
      "2023-06-23 21:05:10,996 INFO sqlalchemy.engine.Engine SELECT sql FROM  (SELECT * FROM sqlite_master UNION ALL   SELECT * FROM sqlite_temp_master) WHERE name = ? AND type in ('table', 'view')\n",
      "2023-06-23 21:05:10,996 INFO sqlalchemy.engine.Engine [raw sql] ('fancy',)\n",
      "2023-06-23 21:05:10,997 INFO sqlalchemy.engine.Engine SELECT sql FROM  (SELECT * FROM sqlite_master UNION ALL   SELECT * FROM sqlite_temp_master) WHERE name = ? AND type in ('table', 'view')\n",
      "2023-06-23 21:05:10,997 INFO sqlalchemy.engine.Engine [raw sql] ('published',)\n",
      "2023-06-23 21:05:10,998 INFO sqlalchemy.engine.Engine SELECT sql FROM  (SELECT * FROM sqlite_master UNION ALL   SELECT * FROM sqlite_temp_master) WHERE name = ? AND type in ('table', 'view')\n",
      "2023-06-23 21:05:10,998 INFO sqlalchemy.engine.Engine [raw sql] ('story',)\n",
      "2023-06-23 21:05:10,999 INFO sqlalchemy.engine.Engine SELECT sql FROM  (SELECT * FROM sqlite_master UNION ALL   SELECT * FROM sqlite_temp_master) WHERE name = ? AND type in ('table', 'view')\n",
      "2023-06-23 21:05:10,999 INFO sqlalchemy.engine.Engine [raw sql] ('user_account',)\n",
      "2023-06-23 21:05:11,000 INFO sqlalchemy.engine.Engine PRAGMA main.foreign_key_list(\"email_address\")\n",
      "2023-06-23 21:05:11,000 INFO sqlalchemy.engine.Engine [raw sql] ()\n",
      "2023-06-23 21:05:11,000 INFO sqlalchemy.engine.Engine SELECT sql FROM  (SELECT * FROM sqlite_master UNION ALL   SELECT * FROM sqlite_temp_master) WHERE name = ? AND type in ('table', 'view')\n",
      "2023-06-23 21:05:11,001 INFO sqlalchemy.engine.Engine [raw sql] ('email_address',)\n",
      "2023-06-23 21:05:11,001 INFO sqlalchemy.engine.Engine PRAGMA main.foreign_key_list(\"fancy\")\n",
      "2023-06-23 21:05:11,002 INFO sqlalchemy.engine.Engine [raw sql] ()\n",
      "2023-06-23 21:05:11,002 INFO sqlalchemy.engine.Engine PRAGMA temp.foreign_key_list(\"fancy\")\n",
      "2023-06-23 21:05:11,002 INFO sqlalchemy.engine.Engine [raw sql] ()\n",
      "2023-06-23 21:05:11,003 INFO sqlalchemy.engine.Engine SELECT sql FROM  (SELECT * FROM sqlite_master UNION ALL   SELECT * FROM sqlite_temp_master) WHERE name = ? AND type in ('table', 'view')\n",
      "2023-06-23 21:05:11,003 INFO sqlalchemy.engine.Engine [raw sql] ('fancy',)\n",
      "2023-06-23 21:05:11,004 INFO sqlalchemy.engine.Engine PRAGMA main.foreign_key_list(\"published\")\n",
      "2023-06-23 21:05:11,004 INFO sqlalchemy.engine.Engine [raw sql] ()\n",
      "2023-06-23 21:05:11,005 INFO sqlalchemy.engine.Engine SELECT sql FROM  (SELECT * FROM sqlite_master UNION ALL   SELECT * FROM sqlite_temp_master) WHERE name = ? AND type in ('table', 'view')\n",
      "2023-06-23 21:05:11,005 INFO sqlalchemy.engine.Engine [raw sql] ('published',)\n",
      "2023-06-23 21:05:11,006 INFO sqlalchemy.engine.Engine PRAGMA main.foreign_key_list(\"story\")\n",
      "2023-06-23 21:05:11,006 INFO sqlalchemy.engine.Engine [raw sql] ()\n",
      "2023-06-23 21:05:11,006 INFO sqlalchemy.engine.Engine PRAGMA temp.foreign_key_list(\"story\")\n",
      "2023-06-23 21:05:11,007 INFO sqlalchemy.engine.Engine [raw sql] ()\n",
      "2023-06-23 21:05:11,007 INFO sqlalchemy.engine.Engine SELECT sql FROM  (SELECT * FROM sqlite_master UNION ALL   SELECT * FROM sqlite_temp_master) WHERE name = ? AND type in ('table', 'view')\n",
      "2023-06-23 21:05:11,007 INFO sqlalchemy.engine.Engine [raw sql] ('story',)\n",
      "2023-06-23 21:05:11,008 INFO sqlalchemy.engine.Engine PRAGMA main.foreign_key_list(\"user_account\")\n",
      "2023-06-23 21:05:11,008 INFO sqlalchemy.engine.Engine [raw sql] ()\n",
      "2023-06-23 21:05:11,009 INFO sqlalchemy.engine.Engine PRAGMA temp.foreign_key_list(\"user_account\")\n",
      "2023-06-23 21:05:11,009 INFO sqlalchemy.engine.Engine [raw sql] ()\n",
      "2023-06-23 21:05:11,010 INFO sqlalchemy.engine.Engine SELECT sql FROM  (SELECT * FROM sqlite_master UNION ALL   SELECT * FROM sqlite_temp_master) WHERE name = ? AND type in ('table', 'view')\n",
      "2023-06-23 21:05:11,010 INFO sqlalchemy.engine.Engine [raw sql] ('user_account',)\n",
      "2023-06-23 21:05:11,011 INFO sqlalchemy.engine.Engine PRAGMA main.index_list(\"email_address\")\n",
      "2023-06-23 21:05:11,011 INFO sqlalchemy.engine.Engine [raw sql] ()\n",
      "2023-06-23 21:05:11,012 INFO sqlalchemy.engine.Engine PRAGMA temp.index_list(\"email_address\")\n",
      "2023-06-23 21:05:11,012 INFO sqlalchemy.engine.Engine [raw sql] ()\n",
      "2023-06-23 21:05:11,012 INFO sqlalchemy.engine.Engine PRAGMA main.table_info(\"email_address\")\n",
      "2023-06-23 21:05:11,013 INFO sqlalchemy.engine.Engine [raw sql] ()\n",
      "2023-06-23 21:05:11,013 INFO sqlalchemy.engine.Engine PRAGMA main.index_list(\"fancy\")\n",
      "2023-06-23 21:05:11,014 INFO sqlalchemy.engine.Engine [raw sql] ()\n",
      "2023-06-23 21:05:11,014 INFO sqlalchemy.engine.Engine PRAGMA main.table_info(\"fancy\")\n",
      "2023-06-23 21:05:11,014 INFO sqlalchemy.engine.Engine [raw sql] ()\n",
      "2023-06-23 21:05:11,015 INFO sqlalchemy.engine.Engine PRAGMA main.index_list(\"published\")\n",
      "2023-06-23 21:05:11,015 INFO sqlalchemy.engine.Engine [raw sql] ()\n",
      "2023-06-23 21:05:11,016 INFO sqlalchemy.engine.Engine PRAGMA temp.index_list(\"published\")\n",
      "2023-06-23 21:05:11,016 INFO sqlalchemy.engine.Engine [raw sql] ()\n",
      "2023-06-23 21:05:11,017 INFO sqlalchemy.engine.Engine PRAGMA main.table_info(\"published\")\n",
      "2023-06-23 21:05:11,017 INFO sqlalchemy.engine.Engine [raw sql] ()\n",
      "2023-06-23 21:05:11,018 INFO sqlalchemy.engine.Engine PRAGMA main.index_list(\"story\")\n",
      "2023-06-23 21:05:11,018 INFO sqlalchemy.engine.Engine [raw sql] ()\n",
      "2023-06-23 21:05:11,018 INFO sqlalchemy.engine.Engine PRAGMA main.table_info(\"story\")\n",
      "2023-06-23 21:05:11,019 INFO sqlalchemy.engine.Engine [raw sql] ()\n",
      "2023-06-23 21:05:11,019 INFO sqlalchemy.engine.Engine PRAGMA main.index_list(\"user_account\")\n",
      "2023-06-23 21:05:11,020 INFO sqlalchemy.engine.Engine [raw sql] ()\n",
      "2023-06-23 21:05:11,020 INFO sqlalchemy.engine.Engine PRAGMA temp.index_list(\"user_account\")\n",
      "2023-06-23 21:05:11,021 INFO sqlalchemy.engine.Engine [raw sql] ()\n",
      "2023-06-23 21:05:11,021 INFO sqlalchemy.engine.Engine PRAGMA main.table_info(\"user_account\")\n",
      "2023-06-23 21:05:11,021 INFO sqlalchemy.engine.Engine [raw sql] ()\n",
      "2023-06-23 21:05:11,022 INFO sqlalchemy.engine.Engine PRAGMA main.index_list(\"email_address\")\n",
      "2023-06-23 21:05:11,022 INFO sqlalchemy.engine.Engine [raw sql] ()\n",
      "2023-06-23 21:05:11,023 INFO sqlalchemy.engine.Engine PRAGMA temp.index_list(\"email_address\")\n",
      "2023-06-23 21:05:11,023 INFO sqlalchemy.engine.Engine [raw sql] ()\n",
      "2023-06-23 21:05:11,024 INFO sqlalchemy.engine.Engine PRAGMA main.table_info(\"email_address\")\n",
      "2023-06-23 21:05:11,024 INFO sqlalchemy.engine.Engine [raw sql] ()\n",
      "2023-06-23 21:05:11,025 INFO sqlalchemy.engine.Engine SELECT sql FROM  (SELECT * FROM sqlite_master UNION ALL   SELECT * FROM sqlite_temp_master) WHERE name = ? AND type in ('table', 'view')\n",
      "2023-06-23 21:05:11,025 INFO sqlalchemy.engine.Engine [raw sql] ('email_address',)\n",
      "2023-06-23 21:05:11,025 INFO sqlalchemy.engine.Engine PRAGMA main.index_list(\"fancy\")\n",
      "2023-06-23 21:05:11,026 INFO sqlalchemy.engine.Engine [raw sql] ()\n",
      "2023-06-23 21:05:11,026 INFO sqlalchemy.engine.Engine PRAGMA main.index_info(\"sqlite_autoindex_fancy_1\")\n",
      "2023-06-23 21:05:11,027 INFO sqlalchemy.engine.Engine [raw sql] ()\n",
      "2023-06-23 21:05:11,027 INFO sqlalchemy.engine.Engine SELECT sql FROM  (SELECT * FROM sqlite_master UNION ALL   SELECT * FROM sqlite_temp_master) WHERE name = ? AND type in ('table', 'view')\n",
      "2023-06-23 21:05:11,028 INFO sqlalchemy.engine.Engine [raw sql] ('fancy',)\n",
      "2023-06-23 21:05:11,028 INFO sqlalchemy.engine.Engine PRAGMA main.index_list(\"published\")\n",
      "2023-06-23 21:05:11,029 INFO sqlalchemy.engine.Engine [raw sql] ()\n",
      "2023-06-23 21:05:11,029 INFO sqlalchemy.engine.Engine PRAGMA temp.index_list(\"published\")\n",
      "2023-06-23 21:05:11,029 INFO sqlalchemy.engine.Engine [raw sql] ()\n",
      "2023-06-23 21:05:11,030 INFO sqlalchemy.engine.Engine PRAGMA main.table_info(\"published\")\n",
      "2023-06-23 21:05:11,030 INFO sqlalchemy.engine.Engine [raw sql] ()\n",
      "2023-06-23 21:05:11,031 INFO sqlalchemy.engine.Engine SELECT sql FROM  (SELECT * FROM sqlite_master UNION ALL   SELECT * FROM sqlite_temp_master) WHERE name = ? AND type in ('table', 'view')\n",
      "2023-06-23 21:05:11,031 INFO sqlalchemy.engine.Engine [raw sql] ('published',)\n",
      "2023-06-23 21:05:11,032 INFO sqlalchemy.engine.Engine PRAGMA main.index_list(\"story\")\n",
      "2023-06-23 21:05:11,032 INFO sqlalchemy.engine.Engine [raw sql] ()\n",
      "2023-06-23 21:05:11,032 INFO sqlalchemy.engine.Engine PRAGMA main.index_info(\"sqlite_autoindex_story_1\")\n",
      "2023-06-23 21:05:11,033 INFO sqlalchemy.engine.Engine [raw sql] ()\n",
      "2023-06-23 21:05:11,033 INFO sqlalchemy.engine.Engine SELECT sql FROM  (SELECT * FROM sqlite_master UNION ALL   SELECT * FROM sqlite_temp_master) WHERE name = ? AND type in ('table', 'view')\n",
      "2023-06-23 21:05:11,034 INFO sqlalchemy.engine.Engine [raw sql] ('story',)\n",
      "2023-06-23 21:05:11,035 INFO sqlalchemy.engine.Engine PRAGMA main.index_list(\"user_account\")\n",
      "2023-06-23 21:05:11,035 INFO sqlalchemy.engine.Engine [raw sql] ()\n",
      "2023-06-23 21:05:11,035 INFO sqlalchemy.engine.Engine PRAGMA temp.index_list(\"user_account\")\n",
      "2023-06-23 21:05:11,036 INFO sqlalchemy.engine.Engine [raw sql] ()\n",
      "2023-06-23 21:05:11,036 INFO sqlalchemy.engine.Engine PRAGMA main.table_info(\"user_account\")\n",
      "2023-06-23 21:05:11,037 INFO sqlalchemy.engine.Engine [raw sql] ()\n",
      "2023-06-23 21:05:11,037 INFO sqlalchemy.engine.Engine SELECT sql FROM  (SELECT * FROM sqlite_master UNION ALL   SELECT * FROM sqlite_temp_master) WHERE name = ? AND type in ('table', 'view')\n",
      "2023-06-23 21:05:11,038 INFO sqlalchemy.engine.Engine [raw sql] ('user_account',)\n",
      "2023-06-23 21:05:11,040 INFO sqlalchemy.engine.Engine ROLLBACK\n"
     ]
    }
   ],
   "source": [
    "# Reflect an entire schema (reflect all the tables at once).\n",
    "metadata3 = MetaData()\n",
    "with engine.connect() as conn:\n",
    "    metadata3.reflect(conn)"
   ]
  },
  {
   "cell_type": "code",
   "execution_count": 38,
   "metadata": {},
   "outputs": [],
   "source": [
    "story, published = metadata3.tables[\"story\"], metadata3.tables[\"published\"]"
   ]
  },
  {
   "cell_type": "code",
   "execution_count": 39,
   "metadata": {},
   "outputs": [
    {
     "data": {
      "text/plain": [
       "Table('story', MetaData(), Column('story_id', INTEGER(), table=<story>, primary_key=True, nullable=False), Column('version_id', INTEGER(), table=<story>, primary_key=True, nullable=False), Column('headline', VARCHAR(length=100), table=<story>, nullable=False), Column('body', TEXT(), table=<story>), schema=None)"
      ]
     },
     "execution_count": 39,
     "metadata": {},
     "output_type": "execute_result"
    }
   ],
   "source": [
    "story"
   ]
  },
  {
   "cell_type": "code",
   "execution_count": 40,
   "metadata": {},
   "outputs": [
    {
     "name": "stdout",
     "output_type": "stream",
     "text": [
      "SELECT story.story_id, story.version_id, story.headline, story.body \n",
      "FROM story JOIN published ON story.story_id = published.story_id AND story.version_id = published.version_id\n"
     ]
    }
   ],
   "source": [
    "print(select(story).join(published))"
   ]
  },
  {
   "cell_type": "code",
   "execution_count": null,
   "metadata": {},
   "outputs": [],
   "source": []
  }
 ],
 "metadata": {
  "kernelspec": {
   "display_name": "fastapi",
   "language": "python",
   "name": "python3"
  },
  "language_info": {
   "codemirror_mode": {
    "name": "ipython",
    "version": 3
   },
   "file_extension": ".py",
   "mimetype": "text/x-python",
   "name": "python",
   "nbconvert_exporter": "python",
   "pygments_lexer": "ipython3",
   "version": "3.8.0"
  },
  "orig_nbformat": 4
 },
 "nbformat": 4,
 "nbformat_minor": 2
}
