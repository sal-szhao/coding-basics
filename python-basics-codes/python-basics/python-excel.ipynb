{
 "cells": [
  {
   "cell_type": "markdown",
   "metadata": {},
   "source": [
    "A very simple and quick way to load small excel files from clickboard."
   ]
  },
  {
   "cell_type": "code",
   "execution_count": 8,
   "metadata": {},
   "outputs": [
    {
     "data": {
      "text/html": [
       "<div>\n",
       "<style scoped>\n",
       "    .dataframe tbody tr th:only-of-type {\n",
       "        vertical-align: middle;\n",
       "    }\n",
       "\n",
       "    .dataframe tbody tr th {\n",
       "        vertical-align: top;\n",
       "    }\n",
       "\n",
       "    .dataframe thead th {\n",
       "        text-align: right;\n",
       "    }\n",
       "</style>\n",
       "<table border=\"1\" class=\"dataframe\">\n",
       "  <thead>\n",
       "    <tr style=\"text-align: right;\">\n",
       "      <th></th>\n",
       "      <th>ZN-870-29</th>\n",
       "      <th>Realcube</th>\n",
       "      <th>2019/3/5</th>\n",
       "      <th>shirt</th>\n",
       "      <th>19</th>\n",
       "      <th>17</th>\n",
       "      <th>$323.00</th>\n",
       "    </tr>\n",
       "  </thead>\n",
       "  <tbody>\n",
       "    <tr>\n",
       "      <th>0</th>\n",
       "      <td>JQ-501-63</td>\n",
       "      <td>Zooxo</td>\n",
       "      <td>2019/7/9</td>\n",
       "      <td>book</td>\n",
       "      <td>30</td>\n",
       "      <td>14</td>\n",
       "      <td>$420.00</td>\n",
       "    </tr>\n",
       "    <tr>\n",
       "      <th>1</th>\n",
       "      <td>FI-165-58</td>\n",
       "      <td>Dabtype</td>\n",
       "      <td>2019/8/12</td>\n",
       "      <td>poster</td>\n",
       "      <td>7</td>\n",
       "      <td>23</td>\n",
       "      <td>$161.00</td>\n",
       "    </tr>\n",
       "    <tr>\n",
       "      <th>2</th>\n",
       "      <td>XP-005-55</td>\n",
       "      <td>Skipfire</td>\n",
       "      <td>2019/11/18</td>\n",
       "      <td>pen</td>\n",
       "      <td>7</td>\n",
       "      <td>29</td>\n",
       "      <td>$203.00</td>\n",
       "    </tr>\n",
       "    <tr>\n",
       "      <th>3</th>\n",
       "      <td>NB-917-18</td>\n",
       "      <td>Bluezoom</td>\n",
       "      <td>2019/4/18</td>\n",
       "      <td>poster</td>\n",
       "      <td>36</td>\n",
       "      <td>19</td>\n",
       "      <td>$684.00</td>\n",
       "    </tr>\n",
       "    <tr>\n",
       "      <th>4</th>\n",
       "      <td>MI-696-11</td>\n",
       "      <td>Zooveo</td>\n",
       "      <td>2019/10/17</td>\n",
       "      <td>pen</td>\n",
       "      <td>-1</td>\n",
       "      <td>30</td>\n",
       "      <td>$(30.00)</td>\n",
       "    </tr>\n",
       "    <tr>\n",
       "      <th>5</th>\n",
       "      <td>MQ-907-02</td>\n",
       "      <td>Babbleset</td>\n",
       "      <td>2019/10/27</td>\n",
       "      <td>poster</td>\n",
       "      <td>30</td>\n",
       "      <td>21</td>\n",
       "      <td>$630.00</td>\n",
       "    </tr>\n",
       "    <tr>\n",
       "      <th>6</th>\n",
       "      <td>NX-102-26</td>\n",
       "      <td>Fliptune</td>\n",
       "      <td>2019/10/16</td>\n",
       "      <td>book</td>\n",
       "      <td>40</td>\n",
       "      <td>28</td>\n",
       "      <td>$1,120.00</td>\n",
       "    </tr>\n",
       "    <tr>\n",
       "      <th>7</th>\n",
       "      <td>LE-516-00</td>\n",
       "      <td>Buzzbean</td>\n",
       "      <td>2019/6/17</td>\n",
       "      <td>poster</td>\n",
       "      <td>-3</td>\n",
       "      <td>16</td>\n",
       "      <td>$(48.00)</td>\n",
       "    </tr>\n",
       "    <tr>\n",
       "      <th>8</th>\n",
       "      <td>VD-518-20</td>\n",
       "      <td>Dabshots</td>\n",
       "      <td>2019/3/12</td>\n",
       "      <td>shirt</td>\n",
       "      <td>19</td>\n",
       "      <td>28</td>\n",
       "      <td>$532.00</td>\n",
       "    </tr>\n",
       "    <tr>\n",
       "      <th>9</th>\n",
       "      <td>OS-688-56</td>\n",
       "      <td>Fiveclub</td>\n",
       "      <td>2019/1/25</td>\n",
       "      <td>book</td>\n",
       "      <td>39</td>\n",
       "      <td>22</td>\n",
       "      <td>$858.00</td>\n",
       "    </tr>\n",
       "    <tr>\n",
       "      <th>10</th>\n",
       "      <td>KI-908-67</td>\n",
       "      <td>Zoonoodle</td>\n",
       "      <td>2019/3/10</td>\n",
       "      <td>pen</td>\n",
       "      <td>23</td>\n",
       "      <td>28</td>\n",
       "      <td>$644.00</td>\n",
       "    </tr>\n",
       "    <tr>\n",
       "      <th>11</th>\n",
       "      <td>WX-453-38</td>\n",
       "      <td>Kwinu</td>\n",
       "      <td>2019/4/22</td>\n",
       "      <td>poster</td>\n",
       "      <td>47</td>\n",
       "      <td>32</td>\n",
       "      <td>$1,504.00</td>\n",
       "    </tr>\n",
       "    <tr>\n",
       "      <th>12</th>\n",
       "      <td>YT-578-78</td>\n",
       "      <td>Skinder</td>\n",
       "      <td>2019/8/30</td>\n",
       "      <td>book</td>\n",
       "      <td>9</td>\n",
       "      <td>15</td>\n",
       "      <td>$135.00</td>\n",
       "    </tr>\n",
       "    <tr>\n",
       "      <th>13</th>\n",
       "      <td>MX-273-97</td>\n",
       "      <td>Mydeo</td>\n",
       "      <td>2019/1/27</td>\n",
       "      <td>poster</td>\n",
       "      <td>5</td>\n",
       "      <td>18</td>\n",
       "      <td>$90.00</td>\n",
       "    </tr>\n",
       "    <tr>\n",
       "      <th>14</th>\n",
       "      <td>QU-938-44</td>\n",
       "      <td>Quaxo</td>\n",
       "      <td>2019/8/14</td>\n",
       "      <td>pen</td>\n",
       "      <td>6</td>\n",
       "      <td>32</td>\n",
       "      <td>$192.00</td>\n",
       "    </tr>\n",
       "    <tr>\n",
       "      <th>15</th>\n",
       "      <td>IG-811-84</td>\n",
       "      <td>Yadel</td>\n",
       "      <td>2019/11/15</td>\n",
       "      <td>book</td>\n",
       "      <td>46</td>\n",
       "      <td>28</td>\n",
       "      <td>$1,288.00</td>\n",
       "    </tr>\n",
       "  </tbody>\n",
       "</table>\n",
       "</div>"
      ],
      "text/plain": [
       "    ZN-870-29   Realcube    2019/3/5   shirt  19  17     $323.00 \n",
       "0   JQ-501-63      Zooxo    2019/7/9    book  30  14     $420.00 \n",
       "1   FI-165-58    Dabtype   2019/8/12  poster   7  23     $161.00 \n",
       "2   XP-005-55   Skipfire  2019/11/18     pen   7  29     $203.00 \n",
       "3   NB-917-18   Bluezoom   2019/4/18  poster  36  19     $684.00 \n",
       "4   MI-696-11     Zooveo  2019/10/17     pen  -1  30     $(30.00)\n",
       "5   MQ-907-02  Babbleset  2019/10/27  poster  30  21     $630.00 \n",
       "6   NX-102-26   Fliptune  2019/10/16    book  40  28   $1,120.00 \n",
       "7   LE-516-00   Buzzbean   2019/6/17  poster  -3  16     $(48.00)\n",
       "8   VD-518-20   Dabshots   2019/3/12   shirt  19  28     $532.00 \n",
       "9   OS-688-56   Fiveclub   2019/1/25    book  39  22     $858.00 \n",
       "10  KI-908-67  Zoonoodle   2019/3/10     pen  23  28     $644.00 \n",
       "11  WX-453-38      Kwinu   2019/4/22  poster  47  32   $1,504.00 \n",
       "12  YT-578-78    Skinder   2019/8/30    book   9  15     $135.00 \n",
       "13  MX-273-97      Mydeo   2019/1/27  poster   5  18      $90.00 \n",
       "14  QU-938-44      Quaxo   2019/8/14     pen   6  32     $192.00 \n",
       "15  IG-811-84      Yadel  2019/11/15    book  46  28   $1,288.00 "
      ]
     },
     "execution_count": 8,
     "metadata": {},
     "output_type": "execute_result"
    }
   ],
   "source": [
    "import pandas as pd\n",
    "\n",
    "df = pd.read_clipboard()\n",
    "df"
   ]
  },
  {
   "cell_type": "markdown",
   "metadata": {},
   "source": [
    "It is possible to load only specific rows / columns in a spread sheet.\n",
    "\n",
    "`openpyxl` is a Python library to read/write Excel 2010 xlsx/xlsm files."
   ]
  },
  {
   "cell_type": "code",
   "execution_count": 12,
   "metadata": {},
   "outputs": [
    {
     "data": {
      "text/html": [
       "<div>\n",
       "<style scoped>\n",
       "    .dataframe tbody tr th:only-of-type {\n",
       "        vertical-align: middle;\n",
       "    }\n",
       "\n",
       "    .dataframe tbody tr th {\n",
       "        vertical-align: top;\n",
       "    }\n",
       "\n",
       "    .dataframe thead th {\n",
       "        text-align: right;\n",
       "    }\n",
       "</style>\n",
       "<table border=\"1\" class=\"dataframe\">\n",
       "  <thead>\n",
       "    <tr style=\"text-align: right;\">\n",
       "      <th></th>\n",
       "      <th>invoice</th>\n",
       "      <th>company</th>\n",
       "      <th>purchase_date</th>\n",
       "    </tr>\n",
       "  </thead>\n",
       "  <tbody>\n",
       "    <tr>\n",
       "      <th>0</th>\n",
       "      <td>ZN-870-29</td>\n",
       "      <td>Realcube</td>\n",
       "      <td>2019-03-05</td>\n",
       "    </tr>\n",
       "    <tr>\n",
       "      <th>1</th>\n",
       "      <td>JQ-501-63</td>\n",
       "      <td>Zooxo</td>\n",
       "      <td>2019-07-09</td>\n",
       "    </tr>\n",
       "    <tr>\n",
       "      <th>2</th>\n",
       "      <td>FI-165-58</td>\n",
       "      <td>Dabtype</td>\n",
       "      <td>2019-08-12</td>\n",
       "    </tr>\n",
       "    <tr>\n",
       "      <th>3</th>\n",
       "      <td>XP-005-55</td>\n",
       "      <td>Skipfire</td>\n",
       "      <td>2019-11-18</td>\n",
       "    </tr>\n",
       "    <tr>\n",
       "      <th>4</th>\n",
       "      <td>NB-917-18</td>\n",
       "      <td>Bluezoom</td>\n",
       "      <td>2019-04-18</td>\n",
       "    </tr>\n",
       "  </tbody>\n",
       "</table>\n",
       "</div>"
      ],
      "text/plain": [
       "     invoice   company purchase_date\n",
       "0  ZN-870-29  Realcube    2019-03-05\n",
       "1  JQ-501-63     Zooxo    2019-07-09\n",
       "2  FI-165-58   Dabtype    2019-08-12\n",
       "3  XP-005-55  Skipfire    2019-11-18\n",
       "4  NB-917-18  Bluezoom    2019-04-18"
      ]
     },
     "execution_count": 12,
     "metadata": {},
     "output_type": "execute_result"
    }
   ],
   "source": [
    "import openpyxl\n",
    "\n",
    "df = pd.read_excel('sample_sales.xlsx', usecols=\"A:C\", engine='openpyxl')\n",
    "df.head()"
   ]
  },
  {
   "cell_type": "markdown",
   "metadata": {},
   "source": [
    "Integrate multiple filters to select rows, similar to where condition in SQL statement."
   ]
  },
  {
   "cell_type": "code",
   "execution_count": 29,
   "metadata": {},
   "outputs": [
    {
     "data": {
      "text/plain": [
       "11     KI-908-67\n",
       "76     KS-847-13\n",
       "89     KN-509-22\n",
       "91     MY-548-03\n",
       "243    PA-747-56\n",
       "Name: invoice, dtype: object"
      ]
     },
     "execution_count": 29,
     "metadata": {},
     "output_type": "execute_result"
    }
   ],
   "source": [
    "df = pd.read_excel('sample_sales.xlsx', engine='openpyxl')\n",
    "\n",
    "date_filter = df['purchase_date'].between('2019/3/5', '2019/3/15')\n",
    "qty_filter = df['quantity'] >= 5\n",
    "product_filter = df['product'].isin(['pen'])\n",
    "\n",
    "df.loc[date_filter & qty_filter & product_filter, 'invoice']"
   ]
  },
  {
   "cell_type": "markdown",
   "metadata": {},
   "source": [
    "Pivot table and cross tabs are similar functions in the dataframe.\n",
    "\n",
    "Pivot table can only deal with dataframes.\n",
    "\n",
    "Cross tabs can deal with dataframes and numpy arrays with normalization."
   ]
  },
  {
   "cell_type": "code",
   "execution_count": 36,
   "metadata": {},
   "outputs": [
    {
     "name": "stdout",
     "output_type": "stream",
     "text": [
      "          quantity                   \n",
      "product       book   pen poster shirt\n",
      "company                              \n",
      "Abatz         64.0   7.0   39.0   NaN\n",
      "Agivu         11.0   NaN    NaN  20.0\n",
      "Aibox          2.0  46.0    NaN   NaN\n",
      "Ailane        25.0  -3.0    0.0   NaN\n",
      "Aimbo          NaN  34.0    NaN  -5.0\n",
      "...            ...   ...    ...   ...\n",
      "Zoonoodle     17.0  23.0    NaN  14.0\n",
      "Zooveo         NaN  12.0   21.0  13.0\n",
      "Zoovu         15.0   NaN    NaN  -2.0\n",
      "Zooxo         30.0   NaN    NaN  85.0\n",
      "Zoozzy         NaN  31.0   31.0  23.0\n",
      "\n",
      "[351 rows x 4 columns]\n",
      "product    book   pen  poster  shirt\n",
      "company                             \n",
      "Abatz      64.0   7.0    39.0    NaN\n",
      "Agivu      11.0   NaN     NaN   20.0\n",
      "Aibox       2.0  46.0     NaN    NaN\n",
      "Ailane     25.0  -3.0     0.0    NaN\n",
      "Aimbo       NaN  34.0     NaN   -5.0\n",
      "...         ...   ...     ...    ...\n",
      "Zoonoodle  17.0  23.0     NaN   14.0\n",
      "Zooveo      NaN  12.0    21.0   13.0\n",
      "Zoovu      15.0   NaN     NaN   -2.0\n",
      "Zooxo      30.0   NaN     NaN   85.0\n",
      "Zoozzy      NaN  31.0    31.0   23.0\n",
      "\n",
      "[351 rows x 4 columns]\n"
     ]
    }
   ],
   "source": [
    "pivot_table = pd.pivot_table(df, index=\"company\", columns=\"product\", values=[\"quantity\"], aggfunc=\"sum\")\n",
    "cross_tab = pd.crosstab(df[\"company\"], df[\"product\"], values=df[\"quantity\"], aggfunc=\"sum\")\n",
    "print(pivot_table)\n",
    "print(cross_tab)"
   ]
  },
  {
   "cell_type": "code",
   "execution_count": 40,
   "metadata": {},
   "outputs": [
    {
     "name": "stdout",
     "output_type": "stream",
     "text": [
      "col_0  one  two\n",
      "row_0          \n",
      "bar      3    1\n",
      "foo      4    3\n",
      "\n",
      "col_0       one   two\n",
      "row_0                \n",
      "bar    0.428571  0.25\n",
      "foo    0.571429  0.75\n"
     ]
    }
   ],
   "source": [
    "import numpy as np\n",
    "\n",
    "a = np.array([\"foo\", \"foo\", \"foo\", \"foo\", \"bar\", \"bar\",\n",
    "              \"bar\", \"bar\", \"foo\", \"foo\", \"foo\"], dtype=object)\n",
    "b = np.array([\"one\", \"one\", \"one\", \"two\", \"one\", \"one\",\n",
    "              \"one\", \"two\", \"two\", \"two\", \"one\"], dtype=object)\n",
    "cross_tab = pd.crosstab(a, b)\n",
    "cross_tab_norm = pd.crosstab(a, b, normalize='columns')\n",
    "print(cross_tab)\n",
    "print()\n",
    "print(cross_tab_norm)"
   ]
  },
  {
   "cell_type": "markdown",
   "metadata": {},
   "source": [
    "A Grouper allows the user to specify a groupby instruction for an object."
   ]
  },
  {
   "cell_type": "code",
   "execution_count": 46,
   "metadata": {},
   "outputs": [
    {
     "data": {
      "text/html": [
       "<div>\n",
       "<style scoped>\n",
       "    .dataframe tbody tr th:only-of-type {\n",
       "        vertical-align: middle;\n",
       "    }\n",
       "\n",
       "    .dataframe tbody tr th {\n",
       "        vertical-align: top;\n",
       "    }\n",
       "\n",
       "    .dataframe thead th {\n",
       "        text-align: right;\n",
       "    }\n",
       "</style>\n",
       "<table border=\"1\" class=\"dataframe\">\n",
       "  <thead>\n",
       "    <tr style=\"text-align: right;\">\n",
       "      <th></th>\n",
       "      <th>ID</th>\n",
       "      <th>Price</th>\n",
       "    </tr>\n",
       "    <tr>\n",
       "      <th>Publish date</th>\n",
       "      <th></th>\n",
       "      <th></th>\n",
       "    </tr>\n",
       "  </thead>\n",
       "  <tbody>\n",
       "    <tr>\n",
       "      <th>2000-01-02</th>\n",
       "      <td>0.5</td>\n",
       "      <td>15.0</td>\n",
       "    </tr>\n",
       "    <tr>\n",
       "      <th>2000-01-09</th>\n",
       "      <td>2.0</td>\n",
       "      <td>30.0</td>\n",
       "    </tr>\n",
       "    <tr>\n",
       "      <th>2000-01-16</th>\n",
       "      <td>3.0</td>\n",
       "      <td>40.0</td>\n",
       "    </tr>\n",
       "  </tbody>\n",
       "</table>\n",
       "</div>"
      ],
      "text/plain": [
       "               ID  Price\n",
       "Publish date            \n",
       "2000-01-02    0.5   15.0\n",
       "2000-01-09    2.0   30.0\n",
       "2000-01-16    3.0   40.0"
      ]
     },
     "execution_count": 46,
     "metadata": {},
     "output_type": "execute_result"
    }
   ],
   "source": [
    "df = pd.DataFrame(\n",
    "   {\n",
    "       \"Publish date\": [\n",
    "            pd.Timestamp(\"2000-01-02\"),\n",
    "            pd.Timestamp(\"2000-01-02\"),\n",
    "            pd.Timestamp(\"2000-01-09\"),\n",
    "            pd.Timestamp(\"2000-01-16\")\n",
    "        ],\n",
    "        \"ID\": [0, 1, 2, 3],\n",
    "        \"Price\": [10, 20, 30, 40]\n",
    "    }\n",
    ")\n",
    "\n",
    "df.groupby(pd.Grouper(key=\"Publish date\", freq=\"1W\")).mean()"
   ]
  },
  {
   "cell_type": "markdown",
   "metadata": {},
   "source": [
    "Read tables inside an excel sheet. "
   ]
  },
  {
   "cell_type": "code",
   "execution_count": 1,
   "metadata": {},
   "outputs": [],
   "source": [
    "from openpyxl import load_workbook"
   ]
  },
  {
   "cell_type": "code",
   "execution_count": 2,
   "metadata": {},
   "outputs": [
    {
     "data": {
      "text/plain": [
       "['sales data']"
      ]
     },
     "execution_count": 2,
     "metadata": {},
     "output_type": "execute_result"
    }
   ],
   "source": [
    "# Retrieve the workbook.\n",
    "wb = load_workbook(filename='sample_sales.xlsx')\n",
    "wb.sheetnames"
   ]
  },
  {
   "cell_type": "code",
   "execution_count": 3,
   "metadata": {},
   "outputs": [
    {
     "data": {
      "text/plain": [
       "<Worksheet \"sales data\">"
      ]
     },
     "execution_count": 3,
     "metadata": {},
     "output_type": "execute_result"
    }
   ],
   "source": [
    "# Retrieve the sheet.\n",
    "sheet = wb['sales data']\n",
    "sheet"
   ]
  },
  {
   "cell_type": "code",
   "execution_count": 6,
   "metadata": {},
   "outputs": [
    {
     "data": {
      "text/plain": [
       "<openpyxl.worksheet.table.Table object>\n",
       "Parameters:\n",
       "id=1, name='Table1', displayName='Table1', comment=None, ref='K1:O6', tableType=None, headerRowCount=1, insertRow=None, insertRowShift=None, totalsRowCount=None, totalsRowShown=False, published=None, headerRowDxfId=0, dataDxfId=None, totalsRowDxfId=None, headerRowBorderDxfId=None, tableBorderDxfId=None, totalsRowBorderDxfId=None, headerRowCellStyle=None, dataCellStyle=None, totalsRowCellStyle=None, connectionId=None, autoFilter=<openpyxl.worksheet.filters.AutoFilter object>\n",
       "Parameters:\n",
       "ref='K1:O6', filterColumn=[], sortState=None, sortState=None, tableColumns=[<openpyxl.worksheet.table.TableColumn object>\n",
       "Parameters:\n",
       "id=1, uniqueName=None, name='invoice', totalsRowFunction=None, totalsRowLabel=None, queryTableFieldId=None, headerRowDxfId=None, dataDxfId=None, totalsRowDxfId=None, headerRowCellStyle=None, dataCellStyle=None, totalsRowCellStyle=None, calculatedColumnFormula=None, totalsRowFormula=None, xmlColumnPr=None, extLst=None, <openpyxl.worksheet.table.TableColumn object>\n",
       "Parameters:\n",
       "id=2, uniqueName=None, name='company', totalsRowFunction=None, totalsRowLabel=None, queryTableFieldId=None, headerRowDxfId=None, dataDxfId=None, totalsRowDxfId=None, headerRowCellStyle=None, dataCellStyle=None, totalsRowCellStyle=None, calculatedColumnFormula=None, totalsRowFormula=None, xmlColumnPr=None, extLst=None, <openpyxl.worksheet.table.TableColumn object>\n",
       "Parameters:\n",
       "id=3, uniqueName=None, name='purchase_date', totalsRowFunction=None, totalsRowLabel=None, queryTableFieldId=None, headerRowDxfId=None, dataDxfId=1, totalsRowDxfId=None, headerRowCellStyle=None, dataCellStyle=None, totalsRowCellStyle=None, calculatedColumnFormula=None, totalsRowFormula=None, xmlColumnPr=None, extLst=None, <openpyxl.worksheet.table.TableColumn object>\n",
       "Parameters:\n",
       "id=4, uniqueName=None, name='product', totalsRowFunction=None, totalsRowLabel=None, queryTableFieldId=None, headerRowDxfId=None, dataDxfId=None, totalsRowDxfId=None, headerRowCellStyle=None, dataCellStyle=None, totalsRowCellStyle=None, calculatedColumnFormula=None, totalsRowFormula=None, xmlColumnPr=None, extLst=None, <openpyxl.worksheet.table.TableColumn object>\n",
       "Parameters:\n",
       "id=5, uniqueName=None, name='quantity', totalsRowFunction=None, totalsRowLabel=None, queryTableFieldId=None, headerRowDxfId=None, dataDxfId=None, totalsRowDxfId=None, headerRowCellStyle=None, dataCellStyle=None, totalsRowCellStyle=None, calculatedColumnFormula=None, totalsRowFormula=None, xmlColumnPr=None, extLst=None], tableStyleInfo=<openpyxl.worksheet.table.TableStyleInfo object>\n",
       "Parameters:\n",
       "name='TableStyleMedium2', showFirstColumn=False, showLastColumn=False, showRowStripes=True, showColumnStripes=False"
      ]
     },
     "execution_count": 6,
     "metadata": {},
     "output_type": "execute_result"
    }
   ],
   "source": [
    "# Retrieve the table.\n",
    "table1 = sheet.tables['Table1']\n",
    "table1"
   ]
  },
  {
   "cell_type": "code",
   "execution_count": 7,
   "metadata": {},
   "outputs": [
    {
     "data": {
      "text/plain": [
       "'K1:O6'"
      ]
     },
     "execution_count": 7,
     "metadata": {},
     "output_type": "execute_result"
    }
   ],
   "source": [
    "# Give the location of the table.\n",
    "table1.ref"
   ]
  }
 ],
 "metadata": {
  "kernelspec": {
   "display_name": "test",
   "language": "python",
   "name": "python3"
  },
  "language_info": {
   "codemirror_mode": {
    "name": "ipython",
    "version": 3
   },
   "file_extension": ".py",
   "mimetype": "text/x-python",
   "name": "python",
   "nbconvert_exporter": "python",
   "pygments_lexer": "ipython3",
   "version": "3.7.0"
  },
  "orig_nbformat": 4
 },
 "nbformat": 4,
 "nbformat_minor": 2
}
